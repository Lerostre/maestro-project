{
 "cells": [
  {
   "cell_type": "code",
   "execution_count": 1,
   "id": "22002cd8-8f3e-4369-8346-3c96392a9685",
   "metadata": {},
   "outputs": [],
   "source": [
    "import pandas as pd\n",
    "import numpy as np\n",
    "import ast\n",
    "from functools import reduce\n",
    "from tabulate import tabulate\n",
    "\n",
    "custom_diff = lambda z: reduce(lambda x, y: abs(x - y), z)"
   ]
  },
  {
   "cell_type": "code",
   "execution_count": 2,
   "id": "e4874e83-f207-479f-bb0b-d8ba98bccb97",
   "metadata": {},
   "outputs": [],
   "source": [
    "def consecutive(x):\n",
    "    if len(x) == 2:\n",
    "        # если два, то вырождается\n",
    "        return 1 if x[-1] - x[0] == 1 else 0\n",
    "    if len(x) > 2:\n",
    "        return 1 if (x[0] < x[-1]) and (len(x)*(x[0]+x[-1])/2 == sum(x)) else 0"
   ]
  },
  {
   "cell_type": "code",
   "execution_count": 47,
   "id": "65edb687-277b-4fc8-9130-ef5f890b0ca2",
   "metadata": {},
   "outputs": [
    {
     "data": {
      "text/plain": [
       "\"{'среди': [91115], 'офицеров': [91116], 'чью': [91117], 'карьеру': [91118], 'он': [91119], 'продвигал': [91120], 'был': [91121], 'и': [91122], 'молодой': [91123], 'иван': [91124], 'саввич': [91125], 'горголи': [91126], 'этого': [91127], 'грека': [91128], 'на': [91129], 'русской': [91130], 'службе': [91131], 'называли': [91132], 'одним': [91133], 'их': [91134], 'самых': [91135], 'красивых': [91136], 'людей': [91137], 'россии': [91138]}\""
      ]
     },
     "execution_count": 47,
     "metadata": {},
     "output_type": "execute_result"
    }
   ],
   "source": [
    "sents.iloc[4693].tokens"
   ]
  },
  {
   "cell_type": "code",
   "execution_count": 46,
   "id": "7bdf166d-428a-488e-9e9b-234b4e991dbd",
   "metadata": {},
   "outputs": [
    {
     "data": {
      "text/plain": [
       "\"{'ADP': [91115, 91129], 'NOUN': [91116, 91118, 91124, 91125, 91126, 91128, 91131, 91137, 91138], 'DET': [91117, 91127, 91134], 'PRON': [91119], 'VERB': [91120, 91121, 91132], 'CONJ': [91122], 'ADJ': [91123, 91130, 91135, 91136], 'NUM': [91133]}\""
      ]
     },
     "execution_count": 46,
     "metadata": {},
     "output_type": "execute_result"
    }
   ],
   "source": [
    "sents.iloc[4693].poss"
   ]
  },
  {
   "cell_type": "code",
   "execution_count": 48,
   "id": "77f2d8a4-69d1-41a2-8c52-0642b22fe543",
   "metadata": {},
   "outputs": [
    {
     "ename": "NameError",
     "evalue": "name 'search' is not defined",
     "output_type": "error",
     "traceback": [
      "\u001b[1;31m---------------------------------------------------------------------------\u001b[0m",
      "\u001b[1;31mNameError\u001b[0m                                 Traceback (most recent call last)",
      "Input \u001b[1;32mIn [48]\u001b[0m, in \u001b[0;36m<cell line: 3>\u001b[1;34m()\u001b[0m\n\u001b[0;32m      1\u001b[0m query \u001b[38;5;241m=\u001b[39m \u001b[38;5;124m'\u001b[39m\u001b[38;5;124m\"\u001b[39m\u001b[38;5;124mбыл\u001b[39m\u001b[38;5;124m\"\u001b[39m\u001b[38;5;124m молодой+ADJ NOUN\u001b[39m\u001b[38;5;124m'\u001b[39m\n\u001b[1;32m----> 3\u001b[0m \u001b[43msearch\u001b[49m(query)\n",
      "\u001b[1;31mNameError\u001b[0m: name 'search' is not defined"
     ]
    }
   ],
   "source": [
    "query = '\"был\" молодой+ADJ NOUN'\n",
    "\n",
    "search(query)"
   ]
  },
  {
   "cell_type": "code",
   "execution_count": 61,
   "id": "b08f1a22-13f7-413a-9322-66c2b3871f30",
   "metadata": {},
   "outputs": [
    {
     "data": {
      "text/plain": [
       "0"
      ]
     },
     "execution_count": 61,
     "metadata": {},
     "output_type": "execute_result"
    }
   ],
   "source": [
    "consecutive([2, 1])"
   ]
  },
  {
   "cell_type": "code",
   "execution_count": 326,
   "id": "39bc1fdd-67b9-4e15-b9dc-9e8e38adbfa1",
   "metadata": {},
   "outputs": [],
   "source": [
    "def search(request, df=sents):\n",
    "    sub_req = request.split()\n",
    "\n",
    "    el_chars = {}\n",
    "    for element in sub_req:\n",
    "        with_pos = False\n",
    "        if element[0] == '\"':\n",
    "            mode = \"lemmas\"\n",
    "        elif element[0].isascii():\n",
    "            mode = \"poss\"\n",
    "        else:\n",
    "            mode = \"tokens\"\n",
    "        if \"+\" in element:\n",
    "            with_pos = True\n",
    "        print(element, mode)\n",
    "        el_chars.update({element: word_search(element=element,\n",
    "                                              sent_df=df, mode=mode,\n",
    "                                              with_pos=with_pos)})\n",
    "        \n",
    "    if len(el_chars) == 1:\n",
    "        sent, word_indices = list(el_chars[request].keys()), list(el_chars[request].values())\n",
    "        print_out(sent, word_indices)\n",
    "\n",
    "    else:\n",
    "        common_sents = list(reduce(lambda x, y: x & y.keys(), el_chars.values()))\n",
    "\n",
    "        for sent in common_sents:\n",
    "            # беру разницу элементов массива, она должна быть равна длине массива -1\n",
    "            listik = []\n",
    "            for key in el_chars:\n",
    "                listik.append(el_chars[key][sent])\n",
    "            grid = np.array(np.meshgrid(*listik)).T.reshape(-1, len(el_chars))\n",
    "            print(grid)\n",
    "            diffs = np.apply_along_axis(consecutive, arr=grid, axis=1)\n",
    "            print(diffs)\n",
    "            word_indices = diffs[np.where(diffs == 1)]\n",
    "            if word_indices.size > 0:\n",
    "                print_out(sent, word_indices)"
   ]
  },
  {
   "cell_type": "code",
   "execution_count": 222,
   "id": "7f539c88-449e-47d1-9a17-1585756a771e",
   "metadata": {},
   "outputs": [],
   "source": [
    "def print_out(sent_indice, word_indice, df=meta):\n",
    "    if sent_indice:\n",
    "        row = df.iloc[sent_indice].reset_index()\n",
    "        np.apply_along_axis(lambda a: print(a), arr=row, axis=1)\n",
    "    #print(row.sentence)\n",
    "    #print(row.title)\n",
    "    #print(row.date)\n",
    "    print(\"\")"
   ]
  },
  {
   "cell_type": "code",
   "execution_count": 322,
   "id": "6b13f1f3-934d-4eb8-8ec7-9672d68ec19c",
   "metadata": {},
   "outputs": [],
   "source": [
    "def word_search(element, sent_df=sents, word_df=words, mode=\"tokens\", with_pos=False):\n",
    "    \n",
    "    if mode == \"lemmas\":\n",
    "        element = element[1:-1]\n",
    "\n",
    "    if with_pos:\n",
    "        word, pos = element.split(\"+\")\n",
    "        word_indices = word_search(word, sent_df, word_df, mode)\n",
    "        pos_indices = word_search(pos, sent_df, word_df, mode=\"poss\")\n",
    "        indices = word_indices.keys() & pos_indices.keys()\n",
    "        morph_indices = []\n",
    "        for sent in indices:\n",
    "            morph_indices.append(list(set(word_indices[sent]) & set(pos_indices[sent])))\n",
    "\n",
    "    else:\n",
    "        v = np.vectorize(lambda x: element in x)\n",
    "        indices = np.where(v(sent_df[mode]) == True)[0]\n",
    "        row = sent_df.iloc[indices]\n",
    "        morph_indices = row[mode].apply(lambda x: x[element])\n",
    "        if with_pos:\n",
    "        #print(row[mode].apply(lambda x: x[word]))  # индексы находятся списками\n",
    "            morph = word_df.iloc[morph_indices.sum()]\n",
    "            u = np.vectorize(lambda x: x == pos)\n",
    "\n",
    "    if not any(morph_indices):\n",
    "        indices = []\n",
    "\n",
    "    return dict(zip(indices, morph_indices))"
   ]
  },
  {
   "cell_type": "code",
   "execution_count": 55,
   "id": "1c42c331-cda2-4d95-8692-1848051fc818",
   "metadata": {},
   "outputs": [],
   "source": [
    "meta = pd.read_csv(\"sents_meta.csv\")\n",
    "sents = pd.read_csv(\"parsed_sents (2).csv\")\n",
    "sents = sents.applymap(lambda x: ast.literal_eval(x))\n",
    "words = pd.read_csv(\"morph_info.csv\")"
   ]
  },
  {
   "cell_type": "code",
   "execution_count": 56,
   "id": "4f4726ae-4d5e-4c73-93dc-36477ca30d10",
   "metadata": {},
   "outputs": [
    {
     "data": {
      "text/plain": [
       "{'прививать': [105356],\n",
       " 'апельсин': [105357],\n",
       " 'к': [105358],\n",
       " 'ель': [105359],\n",
       " 'и': [105360],\n",
       " 'надеяться': [105361],\n",
       " 'на': [105362],\n",
       " 'добрый': [105363],\n",
       " 'плод': [105364]}"
      ]
     },
     "execution_count": 56,
     "metadata": {},
     "output_type": "execute_result"
    }
   ],
   "source": [
    "sents.iloc[5346].lemmas"
   ]
  },
  {
   "cell_type": "code",
   "execution_count": 161,
   "id": "2cd8c129-e208-49c2-a15d-84aa455a6dd3",
   "metadata": {},
   "outputs": [],
   "source": [
    "meta.to_csv(\"sents_meta.csv\", index=0)\n",
    "sents.to_csv(\"whyyyyyyy.csv\", index=0)\n",
    "words.to_csv(\"morph_info.csv\", index=0)"
   ]
  },
  {
   "cell_type": "code",
   "execution_count": null,
   "id": "a1a7af98-c6e5-437d-9670-eb2f858cb1a9",
   "metadata": {},
   "outputs": [],
   "source": [
    "word_search('знать+NOUN', sent_df=sents, word_df=words, mode=\"tokens\", with_pos=True)"
   ]
  },
  {
   "cell_type": "code",
   "execution_count": null,
   "id": "56dedf2e-0c67-46e2-9093-3ca5ea3bcba9",
   "metadata": {},
   "outputs": [],
   "source": [
    "https://stackoverflow.com/questions/24893977/whats-the-best-way-to-regex-replace-a-string-in-python-but-keep-its-case"
   ]
  },
  {
   "cell_type": "code",
   "execution_count": 26,
   "id": "46b4455a-c350-4272-98ed-018a7307e1ab",
   "metadata": {},
   "outputs": [],
   "source": [
    "import re\n",
    "def replace_keep_case(word, replacement, text):\n",
    "    def func(match):\n",
    "        g = match.group()\n",
    "        if g.islower(): return replacement.lower()\n",
    "        if g.istitle(): return replacement.title()\n",
    "        if g.isupper(): return replacement.upper()\n",
    "        return replacement      \n",
    "    return re.sub(word, func, text, flags=re.I)"
   ]
  },
  {
   "cell_type": "code",
   "execution_count": 6,
   "id": "9d161e02-2b89-4df4-9ace-522c3a8ad045",
   "metadata": {},
   "outputs": [
    {
     "data": {
      "text/plain": [
       "'Spam with spam, bacon and spam are good for breakfast... SPAM!'"
      ]
     },
     "execution_count": 6,
     "metadata": {},
     "output_type": "execute_result"
    }
   ],
   "source": [
    "text = \"Eggs with eggs, bacon and spam are good for breakfast... EGGS!\"\n",
    "replace_keep_case(\"eggs\", \"spam\", text)"
   ]
  },
  {
   "cell_type": "code",
   "execution_count": 45,
   "id": "84ec62b6-28f0-4d94-88df-20bd146c8673",
   "metadata": {},
   "outputs": [],
   "source": [
    "element = \"да\"\n",
    "\n",
    "v = np.vectorize(lambda x: element in x)\n",
    "indices = np.where(v(sents[\"tokens\"]) == True)[0]"
   ]
  },
  {
   "cell_type": "code",
   "execution_count": 77,
   "id": "6c2b156d-e59d-48ac-bb2f-cce20b550af4",
   "metadata": {},
   "outputs": [
    {
     "data": {
      "text/plain": [
       "{'богачи': [44028],\n",
       " 'и': [44029, 44038, 44043],\n",
       " 'знать': [44030],\n",
       " 'вообще': [44031],\n",
       " 'сваливали': [44032],\n",
       " 'бремя': [44033],\n",
       " 'войны': [44034],\n",
       " 'на': [44035],\n",
       " 'пролетария': [44036],\n",
       " 'как': [44037],\n",
       " 'везде': [44039],\n",
       " 'причем': [44040],\n",
       " 'обогащались': [44041],\n",
       " 'поставщики': [44042],\n",
       " 'банкиры': [44044]}"
      ]
     },
     "execution_count": 77,
     "metadata": {},
     "output_type": "execute_result"
    }
   ],
   "source": [
    "sents.iloc[2131].tokens"
   ]
  },
  {
   "cell_type": "code",
   "execution_count": 78,
   "id": "3df0a123-cc93-49bc-95fd-531e31d757d1",
   "metadata": {},
   "outputs": [],
   "source": [
    "sents.iloc[2131].poss[\"NOUN\"] = [44028, 44030, 44033, 44034, 44036, 44042, 44044]\n",
    "sents.iloc[2131].poss[\"VERB\"] = [44032, 44041]"
   ]
  },
  {
   "cell_type": "code",
   "execution_count": 82,
   "id": "d647f206-27bd-4400-a365-2e7bc943302c",
   "metadata": {},
   "outputs": [
    {
     "data": {
      "text/plain": [
       "'Case=Nom|Gender=Masc|Number=Plur'"
      ]
     },
     "execution_count": 82,
     "metadata": {},
     "output_type": "execute_result"
    }
   ],
   "source": [
    "words.iloc[44028].tag"
   ]
  },
  {
   "cell_type": "code",
   "execution_count": 83,
   "id": "7f56f757-3144-4429-bdc5-2ec787d8eda8",
   "metadata": {},
   "outputs": [],
   "source": [
    "words.iloc[44030].pos = \"NOUN\"\n",
    "words.iloc[44030].tag = \"Case=Nom|Gender=Fem|Number=Sing\""
   ]
  },
  {
   "cell_type": "code",
   "execution_count": null,
   "id": "e4bf3b95-adf1-48ff-90e6-531ab3aa682e",
   "metadata": {},
   "outputs": [],
   "source": [
    "sents.ro_csv(\")"
   ]
  },
  {
   "cell_type": "code",
   "execution_count": 47,
   "id": "631be997-eb2d-40cf-aad0-5e8788baf220",
   "metadata": {},
   "outputs": [
    {
     "data": {
      "text/plain": [
       "1"
      ]
     },
     "execution_count": 47,
     "metadata": {},
     "output_type": "execute_result"
    }
   ],
   "source": [
    "consecutive([441796, 441799])"
   ]
  },
  {
   "cell_type": "code",
   "execution_count": 50,
   "id": "f4c2fe26-d0df-4b31-8071-e14636aa2ed6",
   "metadata": {},
   "outputs": [
    {
     "data": {
      "text/plain": [
       "883595"
      ]
     },
     "execution_count": 50,
     "metadata": {},
     "output_type": "execute_result"
    }
   ],
   "source": [
    "(441796+441799)"
   ]
  },
  {
   "cell_type": "code",
   "execution_count": 12,
   "id": "ef6371f5-3864-4e83-99c1-74e476edf202",
   "metadata": {},
   "outputs": [
    {
     "name": "stdout",
     "output_type": "stream",
     "text": [
      "ты tokens\n",
      "был tokens\n",
      "CPU times: total: 31.2 ms\n",
      "Wall time: 18 ms\n"
     ]
    }
   ],
   "source": [
    "%%time\n",
    "\n",
    "query = \"ты был\"\n",
    "\n",
    "results = search(query, sents, words, meta)"
   ]
  },
  {
   "cell_type": "code",
   "execution_count": 5,
   "id": "39a769ca-f103-480a-bc51-954d049233a7",
   "metadata": {},
   "outputs": [
    {
     "name": "stdout",
     "output_type": "stream",
     "text": [
      "вот tokens\n",
      "как tokens\n"
     ]
    }
   ],
   "source": [
    "query = \"вот как\"\n",
    "\n",
    "results = search(query, sents, words, meta)"
   ]
  },
  {
   "cell_type": "code",
   "execution_count": 22,
   "id": "efc13945-e601-4078-8d17-879598a1ff6e",
   "metadata": {},
   "outputs": [
    {
     "data": {
      "text/plain": [
       "token                                             простите\n",
       "lemma                                             простить\n",
       "pos                                                   VERB\n",
       "tag      Mood=Imp|Number=Plur|Person=2|VerbForm=Fin|Voi...\n",
       "Name: 1, dtype: object"
      ]
     },
     "execution_count": 22,
     "metadata": {},
     "output_type": "execute_result"
    }
   ],
   "source": [
    "words.iloc[1]"
   ]
  },
  {
   "cell_type": "code",
   "execution_count": 38,
   "id": "40069234-5393-4cdb-9d5d-6476ae11eaab",
   "metadata": {},
   "outputs": [
    {
     "data": {
      "text/plain": [
       "array([['начну',\n",
       "        'Mood=Ind|Number=Sing|Person=1|Tense=Notpast|VerbForm=Fin|Voice=Act'],\n",
       "       ['простите',\n",
       "        'Mood=Imp|Number=Plur|Person=2|VerbForm=Fin|Voice=Act'],\n",
       "       ['с', '_'],\n",
       "       ...,\n",
       "       ['эпиграфа', 'Case=Gen|Gender=Masc|Number=Sing'],\n",
       "       ['их', '_'],\n",
       "       ['смысле', 'Case=Loc|Gender=Masc|Number=Sing']], dtype=object)"
      ]
     },
     "execution_count": 38,
     "metadata": {},
     "output_type": "execute_result"
    }
   ],
   "source": [
    "words[[\"token\", \"tag\"]].values"
   ]
  },
  {
   "cell_type": "code",
   "execution_count": 117,
   "id": "8bdc4e5d-561c-41d7-a6a8-9814361170cf",
   "metadata": {},
   "outputs": [],
   "source": [
    "i = 0\n",
    "def get_range(obj):\n",
    "    if obj:\n",
    "        return range(min(obj)[0], max(obj)[0]+1)\n",
    "    else:\n",
    "        pass"
   ]
  },
  {
   "cell_type": "code",
   "execution_count": 180,
   "id": "707482b4-5ed3-49ab-8c29-73276ed71e78",
   "metadata": {},
   "outputs": [],
   "source": [
    "i = 0\n",
    "def get_capitals(obj):\n",
    "    if obj:\n",
    "        return int(min(obj)[0])\n",
    "    else:\n",
    "        pass"
   ]
  },
  {
   "cell_type": "code",
   "execution_count": 88,
   "id": "31c1add2-2f66-4e7c-8edc-24d304bae3f2",
   "metadata": {},
   "outputs": [
    {
     "data": {
      "text/plain": [
       "0"
      ]
     },
     "execution_count": 88,
     "metadata": {},
     "output_type": "execute_result"
    }
   ],
   "source": [
    "min(sents.tokens[0].values())[0]"
   ]
  },
  {
   "cell_type": "code",
   "execution_count": 194,
   "id": "d62c5ebc-39eb-4e01-8847-e9fd3e05f678",
   "metadata": {},
   "outputs": [],
   "source": [
    "capitals = sents[\"tokens\"].apply(lambda x: get_capitals(x.values()))"
   ]
  },
  {
   "cell_type": "code",
   "execution_count": 201,
   "id": "dcd30ec0-5505-48a9-961d-d3ad951be127",
   "metadata": {},
   "outputs": [],
   "source": [
    "capitals = capitals.dropna().astype(int)"
   ]
  },
  {
   "cell_type": "code",
   "execution_count": 230,
   "id": "80a5a06b-9a22-47c4-9a9c-d05db1a4680a",
   "metadata": {},
   "outputs": [],
   "source": [
    "capitalized = words.iloc[capitals]\n",
    "capitalized = capitalized.token.apply(lambda x: x.capitalize()).rename(\"caps\")"
   ]
  },
  {
   "cell_type": "code",
   "execution_count": 235,
   "id": "84455507-e644-4727-a8f3-48b2f5eaba85",
   "metadata": {},
   "outputs": [],
   "source": [
    "words[\"caps\"] = pd.concat([words.drop(capitals).token, capitalized])"
   ]
  },
  {
   "cell_type": "code",
   "execution_count": 219,
   "id": "e05d381b-59e1-4e40-909f-1b69bc0958f9",
   "metadata": {},
   "outputs": [],
   "source": [
    "capitalized = capitalized.token.apply(lambda x: x.capitalize()).rename(\"caps\")"
   ]
  },
  {
   "cell_type": "code",
   "execution_count": null,
   "id": "3b431837-6b99-467e-8b8d-ff64218b028f",
   "metadata": {},
   "outputs": [],
   "source": [
    "capitalized = capitalized.token.apply(lambda x: x.capitalize()).remame(\"caps\")"
   ]
  },
  {
   "cell_type": "code",
   "execution_count": 314,
   "id": "deb4ba69-db8f-4042-aec4-a4f0925917f7",
   "metadata": {},
   "outputs": [],
   "source": [
    "a = sents[\"tokens\"].apply(lambda x: get_range(x.values())).rename(\"ranges\")\n",
    "sents_ranged = pd.concat([sents, a], axis=1)"
   ]
  },
  {
   "cell_type": "code",
   "execution_count": 315,
   "id": "f16818b0-7e07-41e8-9569-a2b2e0d3fcdc",
   "metadata": {},
   "outputs": [],
   "source": [
    "da = lambda x: f'<div class=\"tooltip2\">{x[0]}<span class=\"tooltiptext2\">{x[1]}</span></div>'\n",
    "\n",
    "tooltips = np.apply_along_axis(da, arr=words[[\"caps\", \"tag\"]].values, axis=1)"
   ]
  },
  {
   "cell_type": "code",
   "execution_count": 316,
   "id": "3c633605-5de7-4d06-9aa9-477ae3fc2b46",
   "metadata": {},
   "outputs": [],
   "source": [
    "tooltipped_words = pd.concat([words, pd.DataFrame({\"tooltips\": tooltips})], axis=1)"
   ]
  },
  {
   "cell_type": "code",
   "execution_count": 317,
   "id": "557400a2-5cde-4680-866f-ae309cd33b8d",
   "metadata": {},
   "outputs": [],
   "source": [
    "def ramble_tips(tokens_range, meta_tooltips=tooltipped_words.tooltips):\n",
    "    if tokens_range:\n",
    "        return \" \".join(meta_tooltips[token_idx] for token_idx in tokens_range)\n",
    "    else:\n",
    "        pass"
   ]
  },
  {
   "cell_type": "code",
   "execution_count": 318,
   "id": "ce94511f-d701-49c9-ba29-44358ced53bf",
   "metadata": {},
   "outputs": [],
   "source": [
    "meta[\"tooltipped\"] = sents_ranged.ranges.apply(ramble_tips).rename(\"tooltipped\")"
   ]
  },
  {
   "cell_type": "code",
   "execution_count": null,
   "id": "5daedf28-bf28-4825-acfb-3c1f779e9a73",
   "metadata": {},
   "outputs": [],
   "source": [
    "meta.tooltipped[2]"
   ]
  },
  {
   "cell_type": "code",
   "execution_count": 309,
   "id": "b2b0490a-91eb-446b-a11e-631965938130",
   "metadata": {},
   "outputs": [],
   "source": [
    "sents_tooltipped = pd.concat([meta, sents_ranged.ranges.apply(ramble_tips).rename(\"tooltipped\")], axis=1)"
   ]
  },
  {
   "cell_type": "code",
   "execution_count": 320,
   "id": "3f32fe75-d767-474a-9e9a-fc7894422527",
   "metadata": {},
   "outputs": [],
   "source": [
    "meta.to_csv(\"meta_tooltipped.csv\", index=0)"
   ]
  },
  {
   "cell_type": "code",
   "execution_count": 295,
   "id": "3d161ef5-efdc-4f78-b06b-dffa0190aa4e",
   "metadata": {},
   "outputs": [],
   "source": [
    "tooltipped_words.iloc[:, [0, -1]].to_csv(\"tooltips.csv\", index=0)"
   ]
  },
  {
   "cell_type": "code",
   "execution_count": 296,
   "id": "36aa43e7-ff35-4e01-a734-3379b6a252f9",
   "metadata": {},
   "outputs": [],
   "source": [
    "from markupsafe import Markup\n",
    "value = Markup('<strong>The HTML String</strong>')"
   ]
  },
  {
   "cell_type": "code",
   "execution_count": 292,
   "id": "7f7fdce9-4a63-4f4a-a906-f810606f70a2",
   "metadata": {},
   "outputs": [],
   "source": [
    "tooltipped_words.to_csv(\"tooltipped_words.csv\", index=0)"
   ]
  },
  {
   "cell_type": "code",
   "execution_count": 167,
   "id": "4b093e0f-8741-4561-8b85-258236de9fee",
   "metadata": {},
   "outputs": [
    {
     "data": {
      "text/plain": [
       "'<div class=\"tooltip\">простите<span class=\"tooltiptext\">Mood=Imp|Number=Plur|Person=2|VerbForm=Fin|Voice=Act</span></div>\"'"
      ]
     },
     "execution_count": 167,
     "metadata": {},
     "output_type": "execute_result"
    }
   ],
   "source": [
    "tooltip_wrap(1, word_df=words, meta_df=meta)"
   ]
  },
  {
   "cell_type": "code",
   "execution_count": 19,
   "id": "8155b848-b142-4f57-b79e-80632b3ed434",
   "metadata": {},
   "outputs": [
    {
     "data": {
      "text/plain": [
       "8"
      ]
     },
     "execution_count": 19,
     "metadata": {},
     "output_type": "execute_result"
    }
   ],
   "source": [
    "len(list(zip(results[0::2], results[1::2]))[::2])"
   ]
  },
  {
   "cell_type": "code",
   "execution_count": 41,
   "id": "044273be-f601-4725-b4dd-c8dad03e8b41",
   "metadata": {},
   "outputs": [],
   "source": [
    "a = [[0], [1], [2], [3]]\n",
    "flat_list = [item for sublist in a for item in sublist]"
   ]
  },
  {
   "cell_type": "code",
   "execution_count": 51,
   "id": "f40db793-0e1c-4bad-90fc-4eee295053e8",
   "metadata": {},
   "outputs": [],
   "source": [
    "def flatten(x):\n",
    "    l = list(x.values())\n",
    "    return [item for sublist in l for item in sublist]"
   ]
  },
  {
   "cell_type": "code",
   "execution_count": 66,
   "id": "11729555-cacf-4155-bae4-b96d7d91ad9f",
   "metadata": {},
   "outputs": [],
   "source": [
    "sent_dict = sents.lemmas.apply(flatten).explode().drop_duplicates()"
   ]
  },
  {
   "cell_type": "code",
   "execution_count": 72,
   "id": "aad82946-c68f-41d7-9110-e92499ff54c2",
   "metadata": {},
   "outputs": [],
   "source": [
    "new_words = pd.concat([words, pd.Series(list(sent_dict.index))], axis=1)"
   ]
  },
  {
   "cell_type": "code",
   "execution_count": null,
   "id": "0f80f078-8059-4a97-af3b-c6c9a4979310",
   "metadata": {},
   "outputs": [],
   "source": [
    "word_search(\"NOUN\", mode=\"poss\", sent_df=sents, word_df=words)"
   ]
  },
  {
   "cell_type": "code",
   "execution_count": 143,
   "id": "6718b112-35b5-4805-abcc-da2dac0f1736",
   "metadata": {},
   "outputs": [
    {
     "name": "stdout",
     "output_type": "stream",
     "text": [
      "7.48 ms ± 112 µs per loop (mean ± std. dev. of 7 runs, 100 loops each)\n"
     ]
    }
   ],
   "source": [
    "%%timeit\n",
    "\n",
    "element = \"я\"\n",
    "\n",
    "v = np.vectorize(lambda x: element in x)\n",
    "indices = np.where(v(sents[\"tokens\"]) == True)[0]\n",
    "row = sents.iloc[indices]\n",
    "morph_indices = row[\"tokens\"].apply(lambda x: x[element])"
   ]
  },
  {
   "cell_type": "code",
   "execution_count": 155,
   "id": "c8a81215-1279-4daa-a5b2-32d7a125daa5",
   "metadata": {},
   "outputs": [
    {
     "name": "stdout",
     "output_type": "stream",
     "text": [
      "21.2 ms ± 196 µs per loop (mean ± std. dev. of 7 runs, 10 loops each)\n"
     ]
    }
   ],
   "source": [
    "%%timeit\n",
    "\n",
    "temp = new_words[new_words[\"token\"] == element]\n",
    "morph_indices1 = list(temp.index)\n",
    "indices1 = temp[0].values"
   ]
  },
  {
   "cell_type": "code",
   "execution_count": 159,
   "id": "206750cc-ae27-44dc-8f1e-4b25d4766d59",
   "metadata": {},
   "outputs": [
    {
     "data": {
      "text/plain": [
       "True"
      ]
     },
     "execution_count": 159,
     "metadata": {},
     "output_type": "execute_result"
    }
   ],
   "source": [
    "(indices == indices1).all()"
   ]
  },
  {
   "cell_type": "code",
   "execution_count": 167,
   "id": "b2da52e5-c7b8-421d-862c-59134e5d60df",
   "metadata": {},
   "outputs": [],
   "source": [
    "import numpy as np\n",
    "import re\n",
    "from functools import reduce\n",
    "import pymorphy2\n",
    "\n",
    "morph = pymorphy2.MorphAnalyzer()\n",
    "\n",
    "\n",
    "def is_ordered(nums):\n",
    "    if np.array_equal(np.sort(nums), nums):\n",
    "        return True\n",
    "    else:\n",
    "        return False\n",
    "\n",
    "\n",
    "def consecutive(l):\n",
    "    setl = set(l)\n",
    "    M, m = max(l), min(l)\n",
    "    return len(l) == len(setl) and setl == set(range(m, M+1)) and is_ordered(l)\n",
    " \n",
    "\n",
    "    \n",
    "def search(request, sent_df, word_df, meta_df):\n",
    "    sub_req = request.split()\n",
    "    info = []\n",
    "\n",
    "    el_chars = {}\n",
    "    for element in sub_req:\n",
    "        with_pos = False\n",
    "        if element[0] == '\"':\n",
    "            mode = \"tokens\"\n",
    "        elif element[0].isascii():\n",
    "            mode = \"poss\"\n",
    "        else:\n",
    "            mode = \"lemmas\"\n",
    "        if \"+\" in element:\n",
    "            with_pos = True\n",
    "        print(element, mode)\n",
    "        el_chars.update({element: word_search(element=element,\n",
    "                                              sent_df=sent_df,\n",
    "                                              word_df=word_df,\n",
    "                                              mode=mode,\n",
    "                                              with_pos=with_pos)})\n",
    "        \n",
    "    if len(el_chars) == 1:\n",
    "        sents, word_indices = list(el_chars[request].keys()), list(el_chars[request].values())\n",
    "        for sent in sents:\n",
    "            new_info = extract_info(sent, word_indices, meta_df, word_df, 1)\n",
    "            if new_info:\n",
    "                info.append(new_info)\n",
    "\n",
    "    else:\n",
    "        common_sents = list(reduce(lambda x, y: x & y.keys(), el_chars.values()))\n",
    "\n",
    "        for sent in common_sents:\n",
    "            listik = []\n",
    "            for key in el_chars:\n",
    "                listik.append(el_chars[key][sent])\n",
    "            grid = np.array(np.meshgrid(*listik)).T.reshape(-1, len(el_chars))\n",
    "            diffs = np.apply_along_axis(consecutive, arr=grid, axis=1)\n",
    "            word_indices = diffs[np.where(diffs == 1)]\n",
    "            if word_indices.size > 0:\n",
    "                info.append(extract_info(sent, word_indices, meta_df, word_df))\n",
    "\n",
    "    return info\n",
    "\n",
    "\n",
    "def replace_keep_case(word, replacement, text):\n",
    "    def func(match):\n",
    "        g = match.group()\n",
    "        if g.islower(): return replacement.lower()\n",
    "        if g.istitle(): return replacement.title()\n",
    "        if g.isupper(): return replacement.upper()\n",
    "        return replacement\n",
    "    return re.sub(rf\"\\b{word}\\b\", func, text, flags=re.I)\n",
    "\n",
    "\n",
    "def highlight(sentence, string):\n",
    "    sent_check = sentence.lower()\n",
    "    \n",
    "    if not string[0].isascii() and f\"<mark>{string}</mark>\".lower() not in sent_check:\n",
    "        return replace_keep_case(string, f'<mark>{string}</mark>', sentence)\n",
    "    else:\n",
    "        return sentence\n",
    "\n",
    "\n",
    "def highlight2(sentence, string):\n",
    "    red = \"\\033[31m\"\n",
    "    nul = \"\\033[0m\"\n",
    "    sentence = re.sub(\n",
    "        r\"\\b({})\\b\".format(re.escape(string)),\n",
    "        r\"{}\\1{}\".format(red, nul),\n",
    "        sentence,\n",
    "        flags=re.I,\n",
    "    )\n",
    "    return sentence\n",
    "\n",
    "\n",
    "def extract_info(sent_indice, word_indice, meta_df, word_df, num=2):\n",
    "    if sent_indice:\n",
    "        row = meta_df.iloc[sent_indice]\n",
    "        sent = row.sentence\n",
    "        if num == 1:\n",
    "            words = [word_df.iloc[item].token for sublist in word_indice for item in sublist]\n",
    "            for word in words:\n",
    "                sent = highlight(sent, word)\n",
    "        return {\"index\": str(sent_indice), \"sents\": sent,\n",
    "               \"titles\": row.title, \"dates\": row.date}\n",
    "    else:\n",
    "        return None\n",
    "    \n",
    "    \n",
    "def word_search(element, sent_df, word_df, mode=\"tokens\", with_pos=False, is_normal=False):\n",
    "    \n",
    "    res = {}\n",
    "    \n",
    "    #print(element, mode, with_pos)\n",
    "\n",
    "    if mode == \"lemmas\" and not is_normal:\n",
    "        elements = query_parse(element)\n",
    "        for el in elements:\n",
    "            res.update(word_search(el, sent_df, word_df, mode, with_pos, is_normal=True))\n",
    "        return res\n",
    "\n",
    "    elif mode == \"tokens\" and not with_pos:\n",
    "        element = element[1:-1]\n",
    "\n",
    "    if with_pos:\n",
    "        indices = []\n",
    "        word, pos = element.split(\"+\")\n",
    "        print(word, pos)\n",
    "        word_indices = word_search(word, sent_df, word_df, mode)\n",
    "        pos_indices = word_search(pos.upper(), sent_df, word_df, mode=\"poss\")\n",
    "        indices_candidates = word_indices.keys() & pos_indices.keys()\n",
    "        morph_indices = []\n",
    "        for sent in indices_candidates:\n",
    "            candidate = list(set(word_indices[sent]) & set(pos_indices[sent]))\n",
    "            if candidate:\n",
    "                indices.append(sent)\n",
    "                morph_indices.append(candidate)\n",
    "\n",
    "    else:\n",
    "        v = np.vectorize(lambda x: element in x)\n",
    "        indices = np.where(v(sent_df[mode]) == True)[0]\n",
    "        row = sent_df.iloc[indices]\n",
    "        morph_indices = row[mode].apply(lambda x: x[element])\n",
    "\n",
    "    if not any(morph_indices):\n",
    "        indices = []\n",
    "\n",
    "    return dict(zip(indices, morph_indices))\n",
    "\n",
    "\n",
    "def query_parse(word):\n",
    "    variants = []\n",
    "\n",
    "    for i in morph.parse(word):\n",
    "        form = i.normal_form\n",
    "        if form not in variants:\n",
    "            variants.append(form)\n",
    "\n",
    "    return variants\n",
    "\n",
    "\n",
    "def morphy_converter(x):\n",
    "    converter = {\"ADJF\": \"ADJ\", \"ADJS\": \"ADJ\", \"COMP\": \"ADJ\",\n",
    "                \"INFN\": \"VERB\", \"PRTF\": \"VERB\", \"PRTS\": \"VERB\", \"GRND\": \"VERB\",\n",
    "                \"NUMR\": \"NUM\", \"ADVB\": \"ADV\", \"PREP\": \"ADP\", \"PTCL\": \"PART\"}\n",
    "    return converter[x] if x in converter else x"
   ]
  },
  {
   "cell_type": "code",
   "execution_count": 58,
   "id": "807ced9d-add4-4aa3-bbe0-8d6429775911",
   "metadata": {},
   "outputs": [],
   "source": [
    "def highlight(sentence, string):\n",
    "    # не работает, если слово есть в предложении, но без чего-то\n",
    "    words = \" \".join(x for x in string.split(\"+\")).split()\n",
    "    string_length = len(words)\n",
    "    \n",
    "    sent_words = sentence.split()\n",
    "    sent_idx = sent_words.index(words[0])\n",
    "    words_to_change = \" \".join(sent_words[sent_idx+x] for x in range(string_length))\n",
    "    \n",
    "    print(words_to_change)\n",
    "    \n",
    "    return replace_keep_case(words_to_change, f'<mark>{words_to_change}</mark>', sentence)"
   ]
  },
  {
   "cell_type": "code",
   "execution_count": 47,
   "id": "0d880f11-fed3-428d-bf22-a13a8bffcbc5",
   "metadata": {},
   "outputs": [
    {
     "name": "stdout",
     "output_type": "stream",
     "text": [
      "ели lemmas False\n",
      "есть lemmas False\n",
      "ель lemmas False\n"
     ]
    }
   ],
   "source": [
    "res = word_search(\"ели\", sents, words, mode=\"lemmas\")"
   ]
  },
  {
   "cell_type": "code",
   "execution_count": 8,
   "id": "d6447805-70e5-4afd-97a9-1aedba8cc7ed",
   "metadata": {},
   "outputs": [
    {
     "data": {
      "text/plain": [
       "{5346: [105359], 26041: [476152]}"
      ]
     },
     "execution_count": 22,
     "metadata": {},
     "output_type": "execute_result"
    }
   ],
   "source": [
    "word_search(\"ель\", sents, words, mode=\"lemmas\")"
   ]
  },
  {
   "cell_type": "code",
   "execution_count": null,
   "id": "91c17e5e-c781-4123-8aa7-5b43d84bf115",
   "metadata": {},
   "outputs": [],
   "source": [
    "word_search(\"есть\", sents, words, mode=\"lemmas\")"
   ]
  },
  {
   "cell_type": "code",
   "execution_count": 29,
   "id": "833bcdfa-52c6-49e9-863c-32a6ac565f0c",
   "metadata": {},
   "outputs": [],
   "source": [
    "y = {\"да\" : 1}\n",
    "x = {\"нет\": 2}\n",
    "z = {\"ах\": 2}\n",
    "a = {\"sх\": 3}\n",
    "\n",
    "x.update(y)"
   ]
  },
  {
   "cell_type": "code",
   "execution_count": 69,
   "id": "7194ba60-b1ab-481b-acab-e1fb0e39aa9f",
   "metadata": {},
   "outputs": [],
   "source": [
    "a = [[91121, 91123, 91116],\n",
    " [91121, 91123, 91118],\n",
    " [91121, 91123, 91124],\n",
    " [91121, 91123, 91125],\n",
    " [91121, 91123, 91126],\n",
    " [91121, 91123, 91128],\n",
    " [91121, 91123, 91131],\n",
    " [91121, 91123, 91137],\n",
    " [91121, 91123, 91138]]"
   ]
  },
  {
   "cell_type": "code",
   "execution_count": 78,
   "id": "2c3a1695-1391-41c3-9361-3ff6b20d5e6b",
   "metadata": {},
   "outputs": [],
   "source": [
    "def check_is_consecutive(l):\n",
    "    maximum = max(l)\n",
    "    if sum(l) == maximum * (maximum+1) /2 : \n",
    "         return True\n",
    "    return False"
   ]
  },
  {
   "cell_type": "code",
   "execution_count": null,
   "id": "a122dff1-3493-46ee-bfd5-cf08b4d40a48",
   "metadata": {},
   "outputs": [],
   "source": [
    "def consecutive(l):\n",
    "    setl = set(l)\n",
    "    M, m = max(l), min(l)\n",
    "    return len(l) == len(setl) and setl == set(range(m, M+1)) and is_ordered(l)"
   ]
  },
  {
   "cell_type": "code",
   "execution_count": 136,
   "id": "31a5755f-ad8e-46b2-927c-00968fd02da1",
   "metadata": {},
   "outputs": [
    {
     "data": {
      "text/plain": [
       "False"
      ]
     },
     "execution_count": 136,
     "metadata": {},
     "output_type": "execute_result"
    }
   ],
   "source": [
    "consecutive([91121, 91123, 91125])"
   ]
  },
  {
   "cell_type": "code",
   "execution_count": 71,
   "id": "df66bd1a-9a3f-4203-9433-85488c7db3db",
   "metadata": {},
   "outputs": [
    {
     "data": {
      "text/plain": [
       "array([0, 0, 0, 1, 0, 0, 0, 0, 0])"
      ]
     },
     "execution_count": 71,
     "metadata": {},
     "output_type": "execute_result"
    }
   ],
   "source": [
    "np.apply_along_axis(consecutive, arr=a, axis=1)"
   ]
  },
  {
   "cell_type": "code",
   "execution_count": 72,
   "id": "3b60c8da-085f-4a7a-aedd-218277fde4c3",
   "metadata": {},
   "outputs": [
    {
     "data": {
      "text/plain": [
       "True"
      ]
     },
     "execution_count": 125,
     "metadata": {},
     "output_type": "execute_result"
    }
   ],
   "source": [
    "consecutive([91121, 91123, 91125])"
   ]
  },
  {
   "cell_type": "code",
   "execution_count": 168,
   "id": "3154f9d7-c298-4b48-979a-c9c61d45b258",
   "metadata": {},
   "outputs": [
    {
     "name": "stdout",
     "output_type": "stream",
     "text": [
      "\"молодой\"+ADJ tokens\n",
      "\"молодой\" ADJ\n"
     ]
    }
   ],
   "source": [
    "query = '\"молодой\"+ADJ'\n",
    "\n",
    "results = search(query, sents, words, meta)"
   ]
  },
  {
   "cell_type": "code",
   "execution_count": 163,
   "id": "0a966663-05fb-45d3-86c3-cc0a1164355b",
   "metadata": {},
   "outputs": [
    {
     "data": {
      "text/plain": [
       "['\"молодой\"', 'ADJ']"
      ]
     },
     "execution_count": 163,
     "metadata": {},
     "output_type": "execute_result"
    }
   ],
   "source": [
    "query.split(\"+\")"
   ]
  },
  {
   "cell_type": "code",
   "execution_count": 170,
   "id": "bc818b84-6167-46a4-9141-4ac39767c5a7",
   "metadata": {},
   "outputs": [
    {
     "data": {
      "text/plain": [
       "[{'index': '20995',\n",
       "  'sents': 'Итак мы видим, что, по мнению Александра, в 1801г. для успешной борьбы с <mark>молодой</mark> Францией «момент еще не настал».',\n",
       "  'titles': 'Правда о войне 1812 года',\n",
       "  'dates': '2004'},\n",
       " {'index': '4229',\n",
       "  'sents': '<Mark>Молодой</Mark> литератор Джек Алтаузен (Я.М. Алтаузен: 1907-1942) писал: Я предлагаю Минина расплавить, Пожарского.',\n",
       "  'titles': 'Первая научная история войны 1812 года',\n",
       "  'dates': '2018'},\n",
       " {'index': '12935',\n",
       "  'sents': '<Mark>Молодой</Mark> человек, обливаясь кровью, упал. ...Граф Ростопчин со своей свитой не успел покинуть двор, как опьяненная первой пролитой кровью толпа бросилась на израненного Михаила Верещагина.',\n",
       "  'titles': 'Первая научная история войны 1812 года',\n",
       "  'dates': '2018'},\n",
       " {'index': '16267',\n",
       "  'sents': '229 Да, среди них было много конскриптов, юных и неопытных новобранцев, которых прозвали «Марии-Луизы» (в честь <mark>молодой</mark> и привлекательной жены Наполеона), но любой мало-мальски разбирающийся в военном деле человек понимает, что без опытных частей и старых кадров не то что победы, но и вообще попытки сражаться были бы невозможны.',\n",
       "  'titles': 'Первая научная история войны 1812 года',\n",
       "  'dates': '2018'},\n",
       " {'index': '21003',\n",
       "  'sents': 'Россия, как и Европа, устала от почти десятилетия беспрерывных войн, проблемы внутренней политики страны требовали незамедлительного решения, в России на престол взошел неопытный <mark>молодой</mark> государь, которому было необходимо время, чтобы войти в курс дела, во Франции Наполеону приходилось в обстановке перманентной войны создавать фактически новое государство, в Англии к власти пришел кабинет лидера радикального крыла вигов Чарльза Джеймса Фокса, занимавшего позиции мира с Францией, а Австрии и Пруссии необходимо было оправиться от понесенных поражений Кроме того, Пруссия надеялась на благосклонность Франции в сфере ее интересов в германском регионе, а король Фридрих — Вильгельм Ill вообще никогда не был сторонником открытой войны.',\n",
       "  'titles': 'Правда о войне 1812 года',\n",
       "  'dates': '2004'},\n",
       " {'index': '22028',\n",
       "  'sents': 'В 1812 году в Литве пышно праздновали 22 июля — именины императрицы Марии Луизы, 15 августа — день рождения и тезоименитства Наполеона (№ 67 — 78)  <Mark>Молодой</Mark> русский офицер Александр Чичерин, вступив со своим полком в одну из губерний Белоруссии, отметил, что «жители этой губернии не разорены.',\n",
       "  'titles': 'Правда о войне 1812 года',\n",
       "  'dates': '2004'},\n",
       " {'index': '4501',\n",
       "  'sents': 'Поклонник <mark>молодой</mark> русской литературы (автор статьи об А.С. Пушкине) писал о царе так: «У императора Александра никогда не было того, что называется умом — это сплошная посредственность признает только заурядность (выделено мной, Е.П.). ...Ни на одно мгновение не допускает он себя до искренности и прямоты, но вечно настороже.',\n",
       "  'titles': 'Первая научная история войны 1812 года',\n",
       "  'dates': '2018'},\n",
       " {'index': '1558',\n",
       "  'sents': 'Действительно: благодаря европейской прессе, в 1796 году <mark>молодой</mark> генерал с античным профилем стал настоящей, выражаясь сегодняшним языком, поп-звездой.',\n",
       "  'titles': 'Бонапарт – учитель и любимый чудо-богатырь Суворова?!. Блог Евгения Понасенкова на mk.ru',\n",
       "  'dates': '22 мая 2014'},\n",
       " {'index': '2968',\n",
       "  'sents': 'В 2014 году Научным советом Российской академии наук я был приглашен выступить на очередном его заседании с докладом «Две модели реформирования Европы: Наполеон и Александр I».108 Заранее прослышав про это, на «беговую дорожку» вышла относительно <mark>молодой</mark> научный сотрудник РАН тов. Л.В. Мельникова.',\n",
       "  'titles': 'Первая научная история войны 1812 года',\n",
       "  'dates': '2018'},\n",
       " {'index': '17433',\n",
       "  'sents': '- <Mark>Молодой</Mark> крестьянин отрубает себе пальцы, чтобы не идти служить в ополчение.',\n",
       "  'titles': 'Первая научная история войны 1812 года',\n",
       "  'dates': '2018'},\n",
       " {'index': '20248',\n",
       "  'sents': 'Именно про разгулявшуюся чернь <mark>молодой</mark> Бонапарт, с воодушевлением принявший революцию, сказал 10 августа 1792 года (он присутствовал при взятии толпой королевского дворца Тюилри), что король должен был бы уничтожить их артиллерийским огнем.',\n",
       "  'titles': 'Правда о войне 1812 года',\n",
       "  'dates': '2004'},\n",
       " {'index': '20892',\n",
       "  'sents': 'Оба они базировались на феодальных политико-экономических устоях, что делало эти страны объективными соучастниками контрреволюционных союзов против <mark>молодой</mark> революционной Франции.',\n",
       "  'titles': 'Правда о войне 1812 года',\n",
       "  'dates': '2004'},\n",
       " {'index': '1566',\n",
       "  'sents': 'Кроме того, у русско-австрийских сил, которые направлялись интервенцией во Францию (это вам полезно напомнить – ведь 1812 год был лишь итогом самообороны <mark>молодой</mark> Франции, от беспрестанных коалиций, начавшихся, когда Бонапарт был еще нищим офицером) сразу обнаружился сильный помощник – агрессивная пропаганда священников среди наименее просвещенной части пьемонтцев в отдаленных крестьянских районах.',\n",
       "  'titles': 'Бонапарт – учитель и любимый чудо-богатырь Суворова?!. Блог Евгения Понасенкова на mk.ru',\n",
       "  'dates': '22 мая 2014'},\n",
       " {'index': '11685',\n",
       "  'sents': 'Среди трупов, окружавших редут, обратил на себя внимание <mark>молодой</mark> русский.',\n",
       "  'titles': 'Первая научная история войны 1812 года',\n",
       "  'dates': '2018'},\n",
       " {'index': '6440',\n",
       "  'sents': 'Момент для очередного этапа борьбы с постреволюционной Францией (напомню, ее <mark>молодой</mark> правитель Бонапарт еще только встал во главе страны) еще не настал.',\n",
       "  'titles': 'Первая научная история войны 1812 года',\n",
       "  'dates': '2018'},\n",
       " {'index': '6569',\n",
       "  'sents': 'Первоисточники свидетельствуют: нам следует прежде всего принимать во внимание личностный фактор — характер Александра I. <Mark>Молодой</Mark> и амбициозный, он видел себя более чем достойной альтернативой Наполеону.',\n",
       "  'titles': 'Первая научная история войны 1812 года',\n",
       "  'dates': '2018'},\n",
       " {'index': '6442',\n",
       "  'sents': '18 Итак, мы видим, что, по мнению Александра, в 1801 г. для успешной борьбы с <mark>молодой</mark> Францией «момент еще не настал».',\n",
       "  'titles': 'Первая научная история войны 1812 года',\n",
       "  'dates': '2018'},\n",
       " {'index': '7465',\n",
       "  'sents': 'Этот красивый и ловкий <mark>молодой</mark> офицер был послан Александром под видом курьера личных писем к Наполеону и втерся в доверие к императору французов.',\n",
       "  'titles': 'Первая научная история войны 1812 года',\n",
       "  'dates': '2018'},\n",
       " {'index': '11688',\n",
       "  'sents': 'Вероятно, этот <mark>молодой</mark> человек упал, оглушенный и контуженный разорвавшимся около него снарядом и, как мнимоумерший, провел ночь среди трупов».',\n",
       "  'titles': 'Первая научная история войны 1812 года',\n",
       "  'dates': '2018'},\n",
       " {'index': '45',\n",
       "  'sents': 'И как только появился реальный <mark>молодой</mark> парень с будущим – они всем миром стали его топить.',\n",
       "  'titles': 'Кутузовский план Кремля (27. 12. 2011). Запись в ВК',\n",
       "  'dates': '2021-02-24'},\n",
       " {'index': '11567',\n",
       "  'sents': 'Мало кто знает, что в самом эпицентре эпохи советской пропаганды, на юбилейном заседании ученого совета Института истории АН СССР 13 сентября 1962 года <mark>молодой</mark> исследователь Н.И. Казаков вступил в острую дискуссию с одним из опасных монополистов темы 1812 г. — с Л.Г. Бескровным.',\n",
       "  'titles': 'Первая научная история войны 1812 года',\n",
       "  'dates': '2018'},\n",
       " {'index': '1840',\n",
       "  'sents': 'Недалеко по морфологии мозга и по уменьшению наследственных патологий от них ушли и маргиналы, бесчинствующие после взятия королевского дворца Тюильри 10 августа 1792 г.: в тот день бывший свидетелем сего штурма <mark>молодой</mark> Бонапарт почувствовал отвращение — и не стал поднимать «жакерию» потом — в 1814 году!',\n",
       "  'titles': 'Первая научная история войны 1812 года',\n",
       "  'dates': '2018'},\n",
       " {'index': '6448',\n",
       "  'sents': 'Россия, как и Европа, устала от почти десятилетия беспрерывных войн, проблемы внутренней политики страны требовали незамедлительного решения, в России на престол взошел неопытный <mark>молодой</mark> государь, которому было необходимо время, чтобы войти в курс дела, во Франции Наполеону приходилось в обстановке отражения перманентной агрессии создавать фактически новое государство, в Англии к власти пришел кабинет лидера радикального крыла вигов Чарльза Джеймса Фокса, занимавшего позиции примирения с Францией, а Австрии и Пруссии необходимо было оправиться от понесенных пораже-ний.',\n",
       "  'titles': 'Первая научная история войны 1812 года',\n",
       "  'dates': '2018'},\n",
       " {'index': '10288',\n",
       "  'sents': 'Один <mark>молодой</mark> лейтенант нашего полка, Пьессак, который имел прекрасное, женоподобное лицо, был даже расцелован одним старым бородатым русским (еще бы: если русских крестьян угоняли в рекруты на 25 лет — кого еще в чисто мужском коллективе было целовать? — прим, мое, Е.П.). ...Между тем, генерал Брюйер, который находился довольно далеко, заметил эту сцену и послал адъютанта, чтобы призвать офицеров назад на свои посты и указать русским также вернуться за свою стрелковую цепь...»',\n",
       "  'titles': 'Первая научная история войны 1812 года',\n",
       "  'dates': '2018'},\n",
       " {'index': '20915',\n",
       "  'sents': '<Mark>Молодой</Mark> монарх живо осознавал, чьим интересам противоречила политика (в т. ч. внешняя) его отца Павла l, за которую последний, собственно говоря, и поплатился жизнью5.',\n",
       "  'titles': 'Правда о войне 1812 года',\n",
       "  'dates': '2004'},\n",
       " {'index': '10933',\n",
       "  'sents': '<Mark>Молодой</Mark> русский артиллерийский офицер Н.Е. Митаревский с сожалением заметил (за день до Бородинского боя): «По дороге, искавши фуража, заходил я в некоторые помещичьи дома.',\n",
       "  'titles': 'Первая научная история войны 1812 года',\n",
       "  'dates': '2018'},\n",
       " {'index': '1462',\n",
       "  'sents': '<Mark>Молодой</Mark> человек (имени его не называю – у нас в стране за свободу слова можно погубить жизнь) написал, так сказать, о наболевшем – изложил вполне типичную (я бы даже сказал – архетипичную) для России ситуацию.',\n",
       "  'titles': 'Вся история и политика России в одном абзаце!. Блог Евгения Понасенкова на mk.ru',\n",
       "  'dates': '11 июля 2014'},\n",
       " {'index': '13626',\n",
       "  'sents': 'Лейтенант старший аджюдан 5-го тиральерского полка <Mark>Молодой</Mark> гвардии барон Поль Шарль Амабль Бургуан (или Бургу- эн: 1791-1864) поселился во дворце самого Ростопчина.',\n",
       "  'titles': 'Первая научная история войны 1812 года',\n",
       "  'dates': '2018'},\n",
       " {'index': '19008',\n",
       "  'sents': 'Помощник военного комиссара — Лантонне.Корпус <mark>молодой</mark> гвардии Командующий — маршал империи, генерал-полковник инженеров и моряков Императорской гвардии, Адольф Эдуар Казимир Жозеф Мортье, герцог Тревизский.',\n",
       "  'titles': 'Первая научная история войны 1812 года',\n",
       "  'dates': '2018'},\n",
       " {'index': '17348',\n",
       "  'sents': 'В 1800 году, победив под Маренго армию очередной антифранцузской коалиции, <mark>молодой</mark> консул с античным профилем Бонапарт вложил меч в ножны, вновь надел гражданский костюм и начал создавать современность.',\n",
       "  'titles': 'Первая научная история войны 1812 года',\n",
       "  'dates': '2018'},\n",
       " {'index': '20933',\n",
       "  'sents': 'Не будет ошибкойсказать, что желание «умиротворить Европу» (по собственному своему разумению) <mark>молодой</mark> монарх унаследовал от отца.',\n",
       "  'titles': 'Правда о войне 1812 года',\n",
       "  'dates': '2004'},\n",
       " {'index': '3020',\n",
       "  'sents': 'Вторым был <mark>молодой</mark> талантливый историк Евгений Понасенков, написавший книгу «Правда о войне 1812 года».',\n",
       "  'titles': 'Первая научная история войны 1812 года',\n",
       "  'dates': '2018'},\n",
       " {'index': '6349',\n",
       "  'sents': 'К началу XIX в. оба государства — и Австрия, и Россия — базировались на феодальных политико-экономических устоях, что делало эти страны объективными соучастниками контрреволюционных союзов против <mark>молодой</mark> Французской республики.',\n",
       "  'titles': 'Первая научная история войны 1812 года',\n",
       "  'dates': '2018'},\n",
       " {'index': '12751',\n",
       "  'sents': '<Mark>Молодой</Mark> Американец будет волтижировать и показывать искусство свое. ...',\n",
       "  'titles': 'Первая научная история войны 1812 года',\n",
       "  'dates': '2018'},\n",
       " {'index': '12754',\n",
       "  'sents': '<Mark>Молодой</Mark> Роббе будет скакать трампелино через шесть человек и через шесть лошадей...»',\n",
       "  'titles': 'Первая научная история войны 1812 года',\n",
       "  'dates': '2018'},\n",
       " {'index': '8403',\n",
       "  'sents': 'К примеру, простой <mark>молодой</mark> офицер Н.Е. Митаревский уже в 1811 году понимал: «Из военных приготовлений очевидно стало, что мы готовимся к большой войне и именно с французами.',\n",
       "  'titles': 'Первая научная история войны 1812 года',\n",
       "  'dates': '2018'},\n",
       " {'index': '4693',\n",
       "  'sents': 'Среди офицеров, чью карьеру он продвигал, был и <mark>молодой</mark> Иван Саввич Горголи (1773-1862) — этого грека на русской службе называли одним их самых красивых людей России.',\n",
       "  'titles': 'Первая научная история войны 1812 года',\n",
       "  'dates': '2018'},\n",
       " {'index': '2775',\n",
       "  'sents': 'Еще в 1963 году (!) <mark>молодой</mark> исследователь прислал в редакцию журнала «Вопросы истории» большую статью под заглавием «Не отступать от классовых позиций!',\n",
       "  'titles': 'Первая научная история войны 1812 года',\n",
       "  'dates': '2018'},\n",
       " {'index': '18271',\n",
       "  'sents': 'Результаты не заставили себя долго ждать: в 1795 г. Пруссия, а затем и Испания, заключая сепаратный мир, признали республику и вышли из состава Первой антифранцузской коалиции, которая распалась в 1797 году, когда в ходе Итальянской кампании <mark>молодой</mark> и блистательный генерал Бонапарт в ряде сражений виртуозно разгромил войска Австрии и Сардинского короля.',\n",
       "  'titles': 'Первая научная история войны 1812 года',\n",
       "  'dates': '2018'},\n",
       " {'index': '19810',\n",
       "  'sents': 'В материалах Фабри (стр. 341-346 приложений к 4 тому его сборника) приводятся ведомости по составу и численности Императорской гвардии за разные даты: по штабу и двум пехотным дивизиям <Mark>Молодой</Mark> гвардии (1-й дивизии Делаборда и 2-й дивизии Роге) — за 4 июля 1812 г., по Легиону Великого герцогства Варшавского (пехотной дивизии Клапареда) — за 25 июня, по пехотной дивизии Старой гвардии (3-й дивизии Кюриаля) — за 20 июня, по гвардейской кавалерийской дивизии, гвардейской резервной артиллерии («большому артиллерийскому резерву»), резервному артиллерийскому парку и инженерному парку (включающему роту саперов и две роты моряков) — за 1 июля и т.д.',\n",
       "  'titles': 'Первая научная история войны 1812 года',\n",
       "  'dates': '2018'},\n",
       " {'index': '6371',\n",
       "  'sents': '<Mark>Молодой</Mark> монарх живо осознавал, чьим интересам противоречила политика (в т. ч. внешняя) его отца Павла I, за которую последний, собственно говоря, и поплатился жизнью.',\n",
       "  'titles': 'Первая научная история войны 1812 года',\n",
       "  'dates': '2018'},\n",
       " {'index': '14307',\n",
       "  'sents': 'Везите их на экипажах <Mark>Молодой</Mark> гвардии и спешенной кавалерии, и на всем, что только окажется у вас под рукой.',\n",
       "  'titles': 'Первая научная история войны 1812 года',\n",
       "  'dates': '2018'},\n",
       " {'index': '15087',\n",
       "  'sents': 'Уже упомянутый <mark>молодой</mark> поручик Л.А. Симанский был весьма расслаблен — вот что мы читаем в его дневнике: «Не доходя верст 7 от города (Малоярославца — прим, мое, Е.П.) мы немного отдохнули, я лежал с Иваном Семеновичем Чайковским (1786 г. р, штаб-лекарь лейб-гвардии Измайловского полка — прим, мое, Е.П.), вскоре мы пошли, подходя ближе пальба гораздо была слышнее...»',\n",
       "  'titles': 'Первая научная история войны 1812 года',\n",
       "  'dates': '2018'},\n",
       " {'index': '15343',\n",
       "  'sents': '<Mark>Молодой</Mark> аристократ граф Адриен де Майи и его друг, князь Шарль де Бово, оба раненые, делили удобную карету и пели песни или читали друг другу в ходе путешествия на родину.',\n",
       "  'titles': 'Первая научная история войны 1812 года',\n",
       "  'dates': '2018'},\n",
       " {'index': '15344',\n",
       "  'sents': '«Кто еще сумеет противостоять превратностям войны с отвагой и веселостью, как не француз, <mark>молодой</mark> француз и также, вероятно, дворянин?» — писал он.',\n",
       "  'titles': 'Первая научная история войны 1812 года',\n",
       "  'dates': '2018'},\n",
       " {'index': '21112',\n",
       "  'sents': '<Mark>Молодой</Mark> и амбициозный, он видел себя более чем достойной альтернативой Наполеону, можно даже говорить о ревности Бонапарта*4 к Франции, нации просвещенной и прогрессивной, которой не хватало только Александра, даровавшего бы «свободу на легальных основаниях» с «царского плеча».',\n",
       "  'titles': 'Правда о войне 1812 года',\n",
       "  'dates': '2004'},\n",
       " {'index': '7289',\n",
       "  'sents': 'Император должен продолжать укреплять здание <mark>молодой</mark> империи: достаточно того, что он уже принужден вести войну против вторгшихся в Испанию англичан.',\n",
       "  'titles': 'Первая научная история войны 1812 года',\n",
       "  'dates': '2018'},\n",
       " {'index': '4730',\n",
       "  'sents': 'Дочь Ф.В. Ростопчина Наталия не гнушается заявить открытым текстом о дипломате Павле Дмитриевиче Киселеве (1788 —1872): «Тогда это был <mark>молодой</mark> красавец лет тридцати; лицо его понравилось императору Александру, и он взял Киселева к себе в адъютанты».',\n",
       "  'titles': 'Первая научная история войны 1812 года',\n",
       "  'dates': '2018'}]"
      ]
     },
     "execution_count": 170,
     "metadata": {},
     "output_type": "execute_result"
    }
   ],
   "source": [
    "results"
   ]
  },
  {
   "cell_type": "code",
   "execution_count": 8,
   "id": "a79167f3-7102-4ff9-b51f-9e698d167c72",
   "metadata": {},
   "outputs": [
    {
     "ename": "NameError",
     "evalue": "name 'sent_df' is not defined",
     "output_type": "error",
     "traceback": [
      "\u001b[1;31m---------------------------------------------------------------------------\u001b[0m",
      "\u001b[1;31mNameError\u001b[0m                                 Traceback (most recent call last)",
      "Input \u001b[1;32mIn [8]\u001b[0m, in \u001b[0;36m<cell line: 1>\u001b[1;34m()\u001b[0m\n\u001b[1;32m----> 1\u001b[0m word_search(\u001b[38;5;124m\"\u001b[39m\u001b[38;5;124mель\u001b[39m\u001b[38;5;124m\"\u001b[39m, \u001b[43msent_df\u001b[49m, word_df, mode)\n",
      "\u001b[1;31mNameError\u001b[0m: name 'sent_df' is not defined"
     ]
    }
   ],
   "source": [
    "word_search(\"ель\", sent_df, word_df, mode)"
   ]
  },
  {
   "cell_type": "code",
   "execution_count": 16,
   "id": "affc6be7-3443-46ef-bc1e-cefb22d9f9d3",
   "metadata": {},
   "outputs": [],
   "source": [
    "def highlight(sentence, string):\n",
    "    print(string[0])\n",
    "    if string[0].isascii():\n",
    "        \n",
    "    else:\n",
    "        return replace_keep_case(string, f'<mark>{string}</mark>', sentence)"
   ]
  },
  {
   "cell_type": "code",
   "execution_count": 58,
   "id": "edd271e1-4497-4620-9b80-4d5047828ad7",
   "metadata": {},
   "outputs": [],
   "source": [
    "import spacy\n",
    "from spacy import displacy"
   ]
  },
  {
   "cell_type": "code",
   "execution_count": 6,
   "id": "01e9c474-971c-4266-8dcb-6940d352352d",
   "metadata": {},
   "outputs": [],
   "source": [
    "import pymorphy2\n",
    "morph = pymorphy2.MorphAnalyzer()"
   ]
  },
  {
   "cell_type": "code",
   "execution_count": 5,
   "id": "c4e177f6-85b8-4b8d-90a2-c5f71ede54f4",
   "metadata": {},
   "outputs": [],
   "source": [
    "def query_parse(word):\n",
    "    variants = []\n",
    "\n",
    "    for i in morph.parse(word):\n",
    "        form = i.normal_form\n",
    "        if form not in variants:\n",
    "            variants.append(form)\n",
    "\n",
    "    return variants\n",
    "\n",
    "\n",
    "def morphy_converter(x):\n",
    "    converter = {\"ADJF\": \"ADJ\", \"ADJS\": \"ADJ\", \"COMP\": \"ADJ\",\n",
    "                \"INFN\": \"VERB\", \"PRTF\": \"VERB\", \"PRTS\": \"VERB\", \"GRND\": \"VERB\",\n",
    "                \"NUMR\": \"NUM\", \"ADVB\": \"ADV\", \"PREP\": \"ADP\", \"PTCL\": \"PART\"}\n",
    "    return converter[x] if x in converter else x"
   ]
  },
  {
   "cell_type": "code",
   "execution_count": 10,
   "id": "edc6d636-51d9-450b-b3b5-cc643fe2c0ae",
   "metadata": {},
   "outputs": [
    {
     "data": {
      "text/plain": [
       "['есть', 'ель']"
      ]
     },
     "execution_count": 10,
     "metadata": {},
     "output_type": "execute_result"
    }
   ],
   "source": [
    "query_parse(\"ели\")"
   ]
  },
  {
   "cell_type": "code",
   "execution_count": 4,
   "id": "5b576bb6-9d41-4c41-ac82-3dd52791b444",
   "metadata": {},
   "outputs": [],
   "source": [
    "def morphy_converter(x):\n",
    "    converter = {\"ADJF\": \"ADJ\", \"ADJS\": \"ADJ\", \"COMP\": \"ADJ\",\n",
    "                \"INFN\": \"VERB\", \"PRTF\": \"VERB\", \"PRTS\": \"VERB\", \"GRND\": \"VERB\",\n",
    "                \"NUMR\": \"NUM\", \"ADVB\": \"ADV\", \"PREP\": \"ADP\", \"PTCL\": \"PART\"}\n",
    "    return converter[x] if x in converter else x"
   ]
  },
  {
   "cell_type": "code",
   "execution_count": 55,
   "id": "7bb694c1-6d1c-44cb-abf6-b97451a5e756",
   "metadata": {},
   "outputs": [
    {
     "name": "stdout",
     "output_type": "stream",
     "text": [
      "1/1 [==============================] - 0s 18ms/step\n"
     ]
    },
    {
     "data": {
      "text/plain": [
       "[<normal_form=есть; word=ели; pos=VERB; tag=Mood=Ind|Number=Plur|Tense=Past|VerbForm=Fin|Voice=Act; score=0.9919>]"
      ]
     },
     "execution_count": 57,
     "metadata": {},
     "output_type": "execute_result"
    }
   ],
   "source": [
    "predictor.predict([\"ели\"])[0].normal_form"
   ]
  },
  {
   "cell_type": "code",
   "execution_count": 3,
   "id": "1efa7285-c410-4735-a5c4-5a9b0a9b90b5",
   "metadata": {},
   "outputs": [],
   "source": [
    "from rnnmorph.predictor import RNNMorphPredictor\n",
    "\n",
    "predictor = RNNMorphPredictor(language=\"ru\")"
   ]
  },
  {
   "cell_type": "code",
   "execution_count": 134,
   "id": "8cb8e05d-c4e3-4ef1-b248-c84d201dca36",
   "metadata": {},
   "outputs": [],
   "source": [
    "words = words.drop(list(words[(words.token == \"е\") | (words.token == \"п\")].index), axis=0)"
   ]
  },
  {
   "cell_type": "code",
   "execution_count": 150,
   "id": "a29285bd-8925-4d4f-8de3-1467444750b3",
   "metadata": {},
   "outputs": [
    {
     "data": {
      "text/plain": [
       "{'и': [1058],\n",
       " 'как': [1059],\n",
       " 'только': [1060],\n",
       " 'появился': [1061],\n",
       " 'реальный': [1062],\n",
       " 'молодой': [1063],\n",
       " 'парень': [1064],\n",
       " 'с': [1065],\n",
       " 'будущим': [1066],\n",
       " 'они': [1067],\n",
       " 'всем': [1068],\n",
       " 'миром': [1069],\n",
       " 'стали': [1070],\n",
       " 'его': [1071],\n",
       " 'топить': [1072]}"
      ]
     },
     "execution_count": 150,
     "metadata": {},
     "output_type": "execute_result"
    }
   ],
   "source": [
    "sents.iloc[45].tokens"
   ]
  },
  {
   "cell_type": "code",
   "execution_count": 151,
   "id": "e9e7a158-299e-4dba-aba7-500a5892d6d8",
   "metadata": {},
   "outputs": [
    {
     "data": {
      "text/plain": [
       "{'CONJ': [1058],\n",
       " 'ADV': [1059, 1060],\n",
       " 'VERB': [1061, 1070, 1072],\n",
       " 'ADJ': [1062, 1063],\n",
       " 'NOUN': [1064, 1066, 1069],\n",
       " 'ADP': [1065],\n",
       " 'PRON': [1067, 1071],\n",
       " 'DET': [1068]}"
      ]
     },
     "execution_count": 151,
     "metadata": {},
     "output_type": "execute_result"
    }
   ],
   "source": [
    "sents.iloc[45].poss"
   ]
  },
  {
   "cell_type": "code",
   "execution_count": 139,
   "id": "40f7a5d7-7fbd-4403-ae47-0d3a14e59b61",
   "metadata": {},
   "outputs": [],
   "source": [
    "words = words.reset_index(drop=True)"
   ]
  },
  {
   "cell_type": "code",
   "execution_count": 101,
   "id": "4d312fa5-88a4-4216-baf6-fa5f5f58df49",
   "metadata": {},
   "outputs": [],
   "source": [
    "def highlight(sentence, string):\n",
    "    if string[0] == '\"':\n",
    "        string = string[1:-1]\n",
    "    if string[0].isascii():\n",
    "        return sentence\n",
    "    else:\n",
    "        return replace_keep_case(string, f'<mark>{string}</mark>', sentence)"
   ]
  },
  {
   "cell_type": "code",
   "execution_count": 103,
   "id": "2128fa46-6d04-4473-9fe6-e4892999a8d5",
   "metadata": {},
   "outputs": [
    {
     "name": "stdout",
     "output_type": "stream",
     "text": [
      "\"\n",
      "\"хочу\"\n"
     ]
    },
    {
     "data": {
      "text/plain": [
       "'Я <mark>хочу</mark> пиццы!'"
      ]
     },
     "execution_count": 103,
     "metadata": {},
     "output_type": "execute_result"
    }
   ],
   "source": [
    "highlight(\"Я хочу пиццы!\", '\"хочу\"')"
   ]
  },
  {
   "cell_type": "code",
   "execution_count": 102,
   "id": "a6b3fccb-03d0-4f5a-9d25-2795c80ae389",
   "metadata": {},
   "outputs": [
    {
     "data": {
      "text/plain": [
       "'хочу'"
      ]
     },
     "execution_count": 102,
     "metadata": {},
     "output_type": "execute_result"
    }
   ],
   "source": [
    "a = '\"хочу\"'\n",
    "a[1:-1]"
   ]
  },
  {
   "cell_type": "code",
   "execution_count": null,
   "id": "95d3d9ca-c936-4425-80ed-3f07a3a1a86f",
   "metadata": {},
   "outputs": [],
   "source": [
    "я был\n",
    "хайлайты"
   ]
  },
  {
   "cell_type": "code",
   "execution_count": 7,
   "id": "31302fe0-b631-471c-b7d9-b4c329c0a04c",
   "metadata": {},
   "outputs": [],
   "source": [
    "words = words.token"
   ]
  },
  {
   "cell_type": "code",
   "execution_count": 13,
   "id": "257fe29b-ea94-417b-b58c-4614b9696b62",
   "metadata": {},
   "outputs": [],
   "source": [
    "words = pd.DataFrame(words)"
   ]
  },
  {
   "cell_type": "code",
   "execution_count": 24,
   "id": "70342d50-4414-4647-a9d9-18d57d366379",
   "metadata": {},
   "outputs": [
    {
     "data": {
      "text/plain": [
       "'Статья VII Ввиду неизвестности, в коей обе Высокие Договаривающиеся Стороны поныне еще находятся в рассуждении будущих намерений французского правительства, они оставляют за собой право, сверх постановленного выше сего, условиться, смотря по стечению обстоятельств, и о тех различных случаях, вследствие коих нужно будет также употребить взаимные их силы.'"
      ]
     },
     "execution_count": 24,
     "metadata": {},
     "output_type": "execute_result"
    }
   ],
   "source": [
    "meta.iloc[6586].sentence"
   ]
  },
  {
   "cell_type": "code",
   "execution_count": 3,
   "id": "d15cdb97-f82a-4bfc-b3fe-491c1b1d5500",
   "metadata": {},
   "outputs": [],
   "source": [
    "import csv"
   ]
  },
  {
   "cell_type": "code",
   "execution_count": 26,
   "id": "1f7023c8-494b-4fe1-8966-8c558383bd17",
   "metadata": {},
   "outputs": [],
   "source": [
    "sents = pd.read_csv(\"parsed_sents.csv\")"
   ]
  },
  {
   "cell_type": "code",
   "execution_count": null,
   "id": "0fe3f335-4208-41c5-9f86-9d0fc8411a60",
   "metadata": {},
   "outputs": [],
   "source": [
    "sents.to_csv(\"parsed_sents.csv\", index=0, quoting=csv.QUOTE_NONE)"
   ]
  },
  {
   "cell_type": "code",
   "execution_count": 41,
   "id": "d6cc52a2-d840-4780-8b2e-65eea586fcb6",
   "metadata": {},
   "outputs": [],
   "source": [
    "meta = pd.read_csv(\"sents_meta.csv\", engine='python', on_bad_lines='skip')\n",
    "#sents = pd.read_csv(\"parsed_sents.csv\", on_bad_lines='skip')\n",
    "#sents = sents.applymap(lambda x: ast.literal_eval(x))\n",
    "#words = pd.read_csv(\"morph_info.csv\", on_bad_lines='skip')"
   ]
  },
  {
   "cell_type": "code",
   "execution_count": 42,
   "id": "7e5a3e1d-3103-41fd-a7c1-9040ba3a3d99",
   "metadata": {},
   "outputs": [
    {
     "data": {
      "text/plain": [
       "url         0\n",
       "title       0\n",
       "date        0\n",
       "sentence    0\n",
       "dtype: int64"
      ]
     },
     "execution_count": 42,
     "metadata": {},
     "output_type": "execute_result"
    }
   ],
   "source": [
    "meta.isna().sum()"
   ]
  }
 ],
 "metadata": {
  "kernelspec": {
   "display_name": "Python 3 (ipykernel)",
   "language": "python",
   "name": "python3"
  },
  "language_info": {
   "codemirror_mode": {
    "name": "ipython",
    "version": 3
   },
   "file_extension": ".py",
   "mimetype": "text/x-python",
   "name": "python",
   "nbconvert_exporter": "python",
   "pygments_lexer": "ipython3",
   "version": "3.10.4"
  }
 },
 "nbformat": 4,
 "nbformat_minor": 5
}
