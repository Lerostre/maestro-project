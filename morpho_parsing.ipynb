{
 "cells": [
  {
   "cell_type": "code",
   "execution_count": 8,
   "id": "075a2cbe-5b51-40e4-b54a-4fabbfbfa3b7",
   "metadata": {},
   "outputs": [],
   "source": [
    "import pandas as pd"
   ]
  },
  {
   "cell_type": "code",
   "execution_count": null,
   "id": "575f87e2-24f2-4557-ad70-b775af344c9c",
   "metadata": {},
   "outputs": [],
   "source": [
    "df = pd.concat([pd.read_csv(\"maestro_vk.csv\", index_col=0),\n",
    "                pd.read_csv(\"maestro_blog.csv\", index_col=0),\n",
    "                pd.read_csv(\"maestro_books.csv\", index_col=0)])"
   ]
  },
  {
   "cell_type": "code",
   "execution_count": 89,
   "id": "a6ce6914-8275-48ff-9505-6b3c561186e4",
   "metadata": {},
   "outputs": [],
   "source": [
    "from razdel import sentenize\n",
    "\n",
    "\n",
    "def sentify(df):\n",
    "    df[\"sentence\"] = df.text.apply(lambda y: [x.text for x in sentenize(y)])\n",
    "    df = df.explode(\"sentence\").reset_index(drop=True).drop(\"text\", axis=1)\n",
    "    return df"
   ]
  },
  {
   "cell_type": "code",
   "execution_count": 120,
   "id": "e989e282-6fb4-40f1-a588-ccac804613ce",
   "metadata": {},
   "outputs": [],
   "source": [
    "for df_name in [f\"maestro_{i}.csv\" for i in [\"vk\", \"blog\", \"books\"]]:\n",
    "    df = pd.read_csv(df_name, index_col=0)\n",
    "    sentify(df).to_csv(f\"sent_{df_name}\")"
   ]
  },
  {
   "cell_type": "code",
   "execution_count": 2,
   "id": "70924b08-5256-4399-9b19-c1d115ab9cec",
   "metadata": {},
   "outputs": [],
   "source": [
    "df = pd.concat([pd.read_csv(\"sent_maestro_vk.csv\", index_col=0),\n",
    "                pd.read_csv(\"sent_maestro_blog.csv\", index_col=0),\n",
    "                pd.read_csv(\"sent_maestro_books.csv\", index_col=0)])"
   ]
  },
  {
   "cell_type": "code",
   "execution_count": 9,
   "id": "8e5be506-dc94-43dd-abd6-9e7772d20bd1",
   "metadata": {},
   "outputs": [
    {
     "data": {
      "text/html": [
       "<div>\n",
       "<style scoped>\n",
       "    .dataframe tbody tr th:only-of-type {\n",
       "        vertical-align: middle;\n",
       "    }\n",
       "\n",
       "    .dataframe tbody tr th {\n",
       "        vertical-align: top;\n",
       "    }\n",
       "\n",
       "    .dataframe thead th {\n",
       "        text-align: right;\n",
       "    }\n",
       "</style>\n",
       "<table border=\"1\" class=\"dataframe\">\n",
       "  <thead>\n",
       "    <tr style=\"text-align: right;\">\n",
       "      <th></th>\n",
       "      <th>url</th>\n",
       "      <th>title</th>\n",
       "      <th>date</th>\n",
       "      <th>sentence</th>\n",
       "    </tr>\n",
       "  </thead>\n",
       "  <tbody>\n",
       "    <tr>\n",
       "      <th>0</th>\n",
       "      <td>https://vk.com/@evgenyponasenkov-kutuzovskii-p...</td>\n",
       "      <td>Кутузовский план Кремля (27. 12. 2011). Запись...</td>\n",
       "      <td>2021-02-24</td>\n",
       "      <td>Начну, простите, с конца.</td>\n",
       "    </tr>\n",
       "    <tr>\n",
       "      <th>1</th>\n",
       "      <td>https://vk.com/@evgenyponasenkov-kutuzovskii-p...</td>\n",
       "      <td>Кутузовский план Кремля (27. 12. 2011). Запись...</td>\n",
       "      <td>2021-02-24</td>\n",
       "      <td>Да, митинги 10-го и 24-го декабря – это замеча...</td>\n",
       "    </tr>\n",
       "    <tr>\n",
       "      <th>2</th>\n",
       "      <td>https://vk.com/@evgenyponasenkov-kutuzovskii-p...</td>\n",
       "      <td>Кутузовский план Кремля (27. 12. 2011). Запись...</td>\n",
       "      <td>2021-02-24</td>\n",
       "      <td>У России был один приближенный к серьезному ша...</td>\n",
       "    </tr>\n",
       "    <tr>\n",
       "      <th>3</th>\n",
       "      <td>https://vk.com/@evgenyponasenkov-kutuzovskii-p...</td>\n",
       "      <td>Кутузовский план Кремля (27. 12. 2011). Запись...</td>\n",
       "      <td>2021-02-24</td>\n",
       "      <td>Немного снижая пафос, можно было бы вспомнить ...</td>\n",
       "    </tr>\n",
       "    <tr>\n",
       "      <th>4</th>\n",
       "      <td>https://vk.com/@evgenyponasenkov-kutuzovskii-p...</td>\n",
       "      <td>Кутузовский план Кремля (27. 12. 2011). Запись...</td>\n",
       "      <td>2021-02-24</td>\n",
       "      <td>Собственно на этом я бы и завершил статью, одн...</td>\n",
       "    </tr>\n",
       "  </tbody>\n",
       "</table>\n",
       "</div>"
      ],
      "text/plain": [
       "                                                 url  \\\n",
       "0  https://vk.com/@evgenyponasenkov-kutuzovskii-p...   \n",
       "1  https://vk.com/@evgenyponasenkov-kutuzovskii-p...   \n",
       "2  https://vk.com/@evgenyponasenkov-kutuzovskii-p...   \n",
       "3  https://vk.com/@evgenyponasenkov-kutuzovskii-p...   \n",
       "4  https://vk.com/@evgenyponasenkov-kutuzovskii-p...   \n",
       "\n",
       "                                               title        date  \\\n",
       "0  Кутузовский план Кремля (27. 12. 2011). Запись...  2021-02-24   \n",
       "1  Кутузовский план Кремля (27. 12. 2011). Запись...  2021-02-24   \n",
       "2  Кутузовский план Кремля (27. 12. 2011). Запись...  2021-02-24   \n",
       "3  Кутузовский план Кремля (27. 12. 2011). Запись...  2021-02-24   \n",
       "4  Кутузовский план Кремля (27. 12. 2011). Запись...  2021-02-24   \n",
       "\n",
       "                                            sentence  \n",
       "0                          Начну, простите, с конца.  \n",
       "1  Да, митинги 10-го и 24-го декабря – это замеча...  \n",
       "2  У России был один приближенный к серьезному ша...  \n",
       "3  Немного снижая пафос, можно было бы вспомнить ...  \n",
       "4  Собственно на этом я бы и завершил статью, одн...  "
      ]
     },
     "execution_count": 9,
     "metadata": {},
     "output_type": "execute_result"
    }
   ],
   "source": [
    "df = pd.read_csv(\"sent_combined.csv\", index_col=0)\n",
    "df.head()"
   ]
  },
  {
   "cell_type": "code",
   "execution_count": 11,
   "id": "2bd8848c-9bc8-4d6d-b196-160eb1bd7069",
   "metadata": {},
   "outputs": [],
   "source": [
    "import nltk\n",
    "from nltk.corpus import stopwords\n",
    "from nltk.stem import WordNetLemmatizer\n",
    "from nltk.tokenize import RegexpTokenizer\n",
    "\n",
    "tokenizer = RegexpTokenizer(r'[^\\d\\W]+')"
   ]
  },
  {
   "cell_type": "code",
   "execution_count": null,
   "id": "fdcfd699-4642-41b6-a019-48be6ba0fb07",
   "metadata": {},
   "outputs": [],
   "source": [
    "class :\n",
    "    def __init__(self, v=None):\n",
    "        self.v = v"
   ]
  },
  {
   "cell_type": "markdown",
   "id": "590df9db-e0f1-4296-819b-3b2a681e8333",
   "metadata": {},
   "source": [
    "Быстрее всего искать что-либо в хешированных структурах, так что в идеале жолжен быть сет, либо хотя бы словрь. Словарь хорош тем, что в него можно сразу затолкать лемму и разбор слова"
   ]
  },
  {
   "cell_type": "code",
   "execution_count": 2,
   "id": "ba2f0466-427c-4e2d-b56c-15fe2a265656",
   "metadata": {},
   "outputs": [],
   "source": [
    "def preprocess(text):\n",
    "    global i\n",
    "    global df2\n",
    "\n",
    "    lowered = tokenizer.tokenize(text.lower())\n",
    "    forms = predictor.predict(lowered)\n",
    "    clear_output()\n",
    "    tokens = {}\n",
    "    lemmas = {}\n",
    "    poss = {}\n",
    "    for form in forms:\n",
    "        word = form.word\n",
    "        lemma = form.normal_form\n",
    "        pos = form.pos\n",
    "\n",
    "        if word in tokens:\n",
    "            tokens[word] += [i]\n",
    "        else:\n",
    "            tokens.update({word: [i]})\n",
    "\n",
    "        if lemma in lemmas:\n",
    "            lemmas[lemma] += [i]\n",
    "        else:\n",
    "            lemmas.update({lemma: [i]})\n",
    "\n",
    "        if pos in poss:\n",
    "            poss[pos] += [i]\n",
    "        else:\n",
    "            poss.update({pos: [i]})\n",
    "\n",
    "        df2 = pd.concat([df2, pd.DataFrame({\"token\": word,\n",
    "                                            \"lemma\": lemma,\n",
    "                                            \"pos\": pos,\n",
    "                                            \"tag\": form.tag\n",
    "                                           },\n",
    "                                            index=[i])])\n",
    "\n",
    "        i += 1\n",
    "\n",
    "    return {\"tokens\": tokens, \"lemmas\": lemmas, \"poss\": poss}"
   ]
  },
  {
   "cell_type": "code",
   "execution_count": null,
   "id": "8f419468-274f-4c18-9ced-76c9459ddcea",
   "metadata": {},
   "outputs": [],
   "source": [
    "del"
   ]
  },
  {
   "cell_type": "code",
   "execution_count": null,
   "id": "1ae521e7-fb59-4848-8e06-3c7c02ecce05",
   "metadata": {},
   "outputs": [],
   "source": [
    "# в основном датафрейме храню только список токенов\n",
    "# по нему будет искаться быстро, если нашёлся, беру номер предложения\n",
    "# залетаю в токены, беру значение токена, это будет индекс в бд морфологии\n",
    "# достаю из морфологии всю инфу"
   ]
  },
  {
   "cell_type": "code",
   "execution_count": 3,
   "id": "371a4dbe-a00f-4852-b6bc-17bd03045c79",
   "metadata": {},
   "outputs": [],
   "source": [
    "from IPython.display import clear_output\n",
    "from tqdm import tqdm\n",
    "tqdm.pandas()"
   ]
  },
  {
   "cell_type": "code",
   "execution_count": 17,
   "id": "34c16f2c-3aa2-4ad2-98f8-55076fad8c4c",
   "metadata": {},
   "outputs": [],
   "source": [
    "i = 98268"
   ]
  },
  {
   "cell_type": "code",
   "execution_count": 6,
   "id": "b126ded6-c045-4be8-bc5d-5500c262ef6a",
   "metadata": {},
   "outputs": [],
   "source": [
    "i = 360656"
   ]
  },
  {
   "cell_type": "code",
   "execution_count": 45,
   "id": "08230976-f37e-404f-ba94-6e13721d57a7",
   "metadata": {},
   "outputs": [
    {
     "data": {
      "text/html": [
       "<div>\n",
       "<style scoped>\n",
       "    .dataframe tbody tr th:only-of-type {\n",
       "        vertical-align: middle;\n",
       "    }\n",
       "\n",
       "    .dataframe tbody tr th {\n",
       "        vertical-align: top;\n",
       "    }\n",
       "\n",
       "    .dataframe thead th {\n",
       "        text-align: right;\n",
       "    }\n",
       "</style>\n",
       "<table border=\"1\" class=\"dataframe\">\n",
       "  <thead>\n",
       "    <tr style=\"text-align: right;\">\n",
       "      <th></th>\n",
       "      <th>token</th>\n",
       "      <th>lemma</th>\n",
       "      <th>pos</th>\n",
       "      <th>tag</th>\n",
       "    </tr>\n",
       "  </thead>\n",
       "  <tbody>\n",
       "    <tr>\n",
       "      <th>0</th>\n",
       "      <td>начну</td>\n",
       "      <td>начать</td>\n",
       "      <td>VERB</td>\n",
       "      <td>Mood=Ind|Number=Sing|Person=1|Tense=Notpast|Ve...</td>\n",
       "    </tr>\n",
       "    <tr>\n",
       "      <th>1</th>\n",
       "      <td>простите</td>\n",
       "      <td>простить</td>\n",
       "      <td>VERB</td>\n",
       "      <td>Mood=Imp|Number=Plur|Person=2|VerbForm=Fin|Voi...</td>\n",
       "    </tr>\n",
       "    <tr>\n",
       "      <th>2</th>\n",
       "      <td>с</td>\n",
       "      <td>с</td>\n",
       "      <td>ADP</td>\n",
       "      <td>_</td>\n",
       "    </tr>\n",
       "    <tr>\n",
       "      <th>3</th>\n",
       "      <td>конца</td>\n",
       "      <td>конец</td>\n",
       "      <td>NOUN</td>\n",
       "      <td>Case=Gen|Gender=Masc|Number=Sing</td>\n",
       "    </tr>\n",
       "    <tr>\n",
       "      <th>4</th>\n",
       "      <td>да</td>\n",
       "      <td>да</td>\n",
       "      <td>CONJ</td>\n",
       "      <td>_</td>\n",
       "    </tr>\n",
       "    <tr>\n",
       "      <th>...</th>\n",
       "      <td>...</td>\n",
       "      <td>...</td>\n",
       "      <td>...</td>\n",
       "      <td>...</td>\n",
       "    </tr>\n",
       "    <tr>\n",
       "      <th>481850</th>\n",
       "      <td>о</td>\n",
       "      <td>о</td>\n",
       "      <td>ADP</td>\n",
       "      <td>_</td>\n",
       "    </tr>\n",
       "    <tr>\n",
       "      <th>481851</th>\n",
       "      <td>сповах</td>\n",
       "      <td>споваха</td>\n",
       "      <td>NOUN</td>\n",
       "      <td>Case=Loc|Gender=Masc|Number=Plur</td>\n",
       "    </tr>\n",
       "    <tr>\n",
       "      <th>481852</th>\n",
       "      <td>эпиграфа</td>\n",
       "      <td>эпиграф</td>\n",
       "      <td>NOUN</td>\n",
       "      <td>Case=Gen|Gender=Masc|Number=Sing</td>\n",
       "    </tr>\n",
       "    <tr>\n",
       "      <th>481853</th>\n",
       "      <td>их</td>\n",
       "      <td>он</td>\n",
       "      <td>DET</td>\n",
       "      <td>_</td>\n",
       "    </tr>\n",
       "    <tr>\n",
       "      <th>481854</th>\n",
       "      <td>смысле</td>\n",
       "      <td>смысл</td>\n",
       "      <td>NOUN</td>\n",
       "      <td>Case=Loc|Gender=Masc|Number=Sing</td>\n",
       "    </tr>\n",
       "  </tbody>\n",
       "</table>\n",
       "<p>481855 rows × 4 columns</p>\n",
       "</div>"
      ],
      "text/plain": [
       "           token     lemma   pos  \\\n",
       "0          начну    начать  VERB   \n",
       "1       простите  простить  VERB   \n",
       "2              с         с   ADP   \n",
       "3          конца     конец  NOUN   \n",
       "4             да        да  CONJ   \n",
       "...          ...       ...   ...   \n",
       "481850         о         о   ADP   \n",
       "481851    сповах   споваха  NOUN   \n",
       "481852  эпиграфа   эпиграф  NOUN   \n",
       "481853        их        он   DET   \n",
       "481854    смысле     смысл  NOUN   \n",
       "\n",
       "                                                      tag  \n",
       "0       Mood=Ind|Number=Sing|Person=1|Tense=Notpast|Ve...  \n",
       "1       Mood=Imp|Number=Plur|Person=2|VerbForm=Fin|Voi...  \n",
       "2                                                       _  \n",
       "3                        Case=Gen|Gender=Masc|Number=Sing  \n",
       "4                                                       _  \n",
       "...                                                   ...  \n",
       "481850                                                  _  \n",
       "481851                   Case=Loc|Gender=Masc|Number=Plur  \n",
       "481852                   Case=Gen|Gender=Masc|Number=Sing  \n",
       "481853                                                  _  \n",
       "481854                   Case=Loc|Gender=Masc|Number=Sing  \n",
       "\n",
       "[481855 rows x 4 columns]"
      ]
     },
     "execution_count": 45,
     "metadata": {},
     "output_type": "execute_result"
    }
   ],
   "source": [
    "pd.read_csv(\"morph_info.csv\")"
   ]
  },
  {
   "cell_type": "code",
   "execution_count": 21,
   "id": "7f277e7e-4823-4027-859d-9c42f9381a6b",
   "metadata": {},
   "outputs": [],
   "source": [
    "del t"
   ]
  },
  {
   "cell_type": "code",
   "execution_count": 41,
   "id": "4f54f360-a7ea-408b-a803-bd27d33bd74a",
   "metadata": {},
   "outputs": [],
   "source": [
    "morph_info = pd.concat([pd.read_csv(f\"morph_info_{i}.csv\") for i in range(6)])"
   ]
  },
  {
   "cell_type": "code",
   "execution_count": 40,
   "id": "c9d91b91-4051-458c-b12d-397810c710f8",
   "metadata": {},
   "outputs": [],
   "source": [
    "parsed_sents = pd.concat([pd.read_csv(f\"parsed_{i}.csv\") for i in range(6)])"
   ]
  },
  {
   "cell_type": "code",
   "execution_count": 43,
   "id": "4b6cae07-7e00-4d72-b4f4-8d2482d41819",
   "metadata": {},
   "outputs": [],
   "source": [
    "parsed_sents = pd.read_csv(\"parsed_sents.csv\")"
   ]
  },
  {
   "cell_type": "code",
   "execution_count": 51,
   "id": "d921133f-d270-40c4-a5fb-675dae1496d6",
   "metadata": {},
   "outputs": [],
   "source": [
    "df.iloc[:, :-1].to_csv(\"sents_meta.csv\", index=0)"
   ]
  },
  {
   "cell_type": "code",
   "execution_count": 53,
   "id": "ba1402e5-f38f-47b6-8b2e-0866a9d0efc7",
   "metadata": {},
   "outputs": [
    {
     "data": {
      "text/html": [
       "<div>\n",
       "<style scoped>\n",
       "    .dataframe tbody tr th:only-of-type {\n",
       "        vertical-align: middle;\n",
       "    }\n",
       "\n",
       "    .dataframe tbody tr th {\n",
       "        vertical-align: top;\n",
       "    }\n",
       "\n",
       "    .dataframe thead th {\n",
       "        text-align: right;\n",
       "    }\n",
       "</style>\n",
       "<table border=\"1\" class=\"dataframe\">\n",
       "  <thead>\n",
       "    <tr style=\"text-align: right;\">\n",
       "      <th></th>\n",
       "      <th>url</th>\n",
       "      <th>title</th>\n",
       "      <th>date</th>\n",
       "    </tr>\n",
       "  </thead>\n",
       "  <tbody>\n",
       "    <tr>\n",
       "      <th>0</th>\n",
       "      <td>https://vk.com/@evgenyponasenkov-kutuzovskii-p...</td>\n",
       "      <td>Кутузовский план Кремля (27. 12. 2011). Запись...</td>\n",
       "      <td>2021-02-24</td>\n",
       "    </tr>\n",
       "    <tr>\n",
       "      <th>1</th>\n",
       "      <td>https://vk.com/@evgenyponasenkov-kutuzovskii-p...</td>\n",
       "      <td>Кутузовский план Кремля (27. 12. 2011). Запись...</td>\n",
       "      <td>2021-02-24</td>\n",
       "    </tr>\n",
       "    <tr>\n",
       "      <th>2</th>\n",
       "      <td>https://vk.com/@evgenyponasenkov-kutuzovskii-p...</td>\n",
       "      <td>Кутузовский план Кремля (27. 12. 2011). Запись...</td>\n",
       "      <td>2021-02-24</td>\n",
       "    </tr>\n",
       "    <tr>\n",
       "      <th>3</th>\n",
       "      <td>https://vk.com/@evgenyponasenkov-kutuzovskii-p...</td>\n",
       "      <td>Кутузовский план Кремля (27. 12. 2011). Запись...</td>\n",
       "      <td>2021-02-24</td>\n",
       "    </tr>\n",
       "    <tr>\n",
       "      <th>4</th>\n",
       "      <td>https://vk.com/@evgenyponasenkov-kutuzovskii-p...</td>\n",
       "      <td>Кутузовский план Кремля (27. 12. 2011). Запись...</td>\n",
       "      <td>2021-02-24</td>\n",
       "    </tr>\n",
       "    <tr>\n",
       "      <th>...</th>\n",
       "      <td>...</td>\n",
       "      <td>...</td>\n",
       "      <td>...</td>\n",
       "    </tr>\n",
       "    <tr>\n",
       "      <th>26338</th>\n",
       "      <td>https://www.ozon.ru/product/pervaya-nauchnaya-...</td>\n",
       "      <td>Правда о войне 1812 года</td>\n",
       "      <td>2004</td>\n",
       "    </tr>\n",
       "    <tr>\n",
       "      <th>26339</th>\n",
       "      <td>https://www.ozon.ru/product/pervaya-nauchnaya-...</td>\n",
       "      <td>Правда о войне 1812 года</td>\n",
       "      <td>2004</td>\n",
       "    </tr>\n",
       "    <tr>\n",
       "      <th>26340</th>\n",
       "      <td>https://www.ozon.ru/product/pervaya-nauchnaya-...</td>\n",
       "      <td>Правда о войне 1812 года</td>\n",
       "      <td>2004</td>\n",
       "    </tr>\n",
       "    <tr>\n",
       "      <th>26341</th>\n",
       "      <td>https://www.ozon.ru/product/pervaya-nauchnaya-...</td>\n",
       "      <td>Правда о войне 1812 года</td>\n",
       "      <td>2004</td>\n",
       "    </tr>\n",
       "    <tr>\n",
       "      <th>26342</th>\n",
       "      <td>https://www.ozon.ru/product/pervaya-nauchnaya-...</td>\n",
       "      <td>Правда о войне 1812 года</td>\n",
       "      <td>2004</td>\n",
       "    </tr>\n",
       "  </tbody>\n",
       "</table>\n",
       "<p>26343 rows × 3 columns</p>\n",
       "</div>"
      ],
      "text/plain": [
       "                                                     url  \\\n",
       "0      https://vk.com/@evgenyponasenkov-kutuzovskii-p...   \n",
       "1      https://vk.com/@evgenyponasenkov-kutuzovskii-p...   \n",
       "2      https://vk.com/@evgenyponasenkov-kutuzovskii-p...   \n",
       "3      https://vk.com/@evgenyponasenkov-kutuzovskii-p...   \n",
       "4      https://vk.com/@evgenyponasenkov-kutuzovskii-p...   \n",
       "...                                                  ...   \n",
       "26338  https://www.ozon.ru/product/pervaya-nauchnaya-...   \n",
       "26339  https://www.ozon.ru/product/pervaya-nauchnaya-...   \n",
       "26340  https://www.ozon.ru/product/pervaya-nauchnaya-...   \n",
       "26341  https://www.ozon.ru/product/pervaya-nauchnaya-...   \n",
       "26342  https://www.ozon.ru/product/pervaya-nauchnaya-...   \n",
       "\n",
       "                                                   title        date  \n",
       "0      Кутузовский план Кремля (27. 12. 2011). Запись...  2021-02-24  \n",
       "1      Кутузовский план Кремля (27. 12. 2011). Запись...  2021-02-24  \n",
       "2      Кутузовский план Кремля (27. 12. 2011). Запись...  2021-02-24  \n",
       "3      Кутузовский план Кремля (27. 12. 2011). Запись...  2021-02-24  \n",
       "4      Кутузовский план Кремля (27. 12. 2011). Запись...  2021-02-24  \n",
       "...                                                  ...         ...  \n",
       "26338                           Правда о войне 1812 года        2004  \n",
       "26339                           Правда о войне 1812 года        2004  \n",
       "26340                           Правда о войне 1812 года        2004  \n",
       "26341                           Правда о войне 1812 года        2004  \n",
       "26342                           Правда о войне 1812 года        2004  \n",
       "\n",
       "[26343 rows x 3 columns]"
      ]
     },
     "execution_count": 53,
     "metadata": {},
     "output_type": "execute_result"
    }
   ],
   "source": [
    "sents_meta = pd.read_csv(\"sents_meta.csv\")\n",
    "sents_meta"
   ]
  },
  {
   "cell_type": "code",
   "execution_count": 42,
   "id": "26be0700-92e4-4200-846a-1bae589ad9b2",
   "metadata": {},
   "outputs": [],
   "source": [
    "parsed_sents.iloc[:, 1:].reset_index(drop=True).to_csv(\"parsed_sents.csv\", index=0)\n",
    "morph_info.iloc[:, 1:].reset_index(drop=True).to_csv(\"morph_info.csv\", index=0)"
   ]
  },
  {
   "cell_type": "code",
   "execution_count": 14,
   "id": "02ab8022-1743-4054-a15a-2f5512d6a2e3",
   "metadata": {},
   "outputs": [
    {
     "name": "stderr",
     "output_type": "stream",
     "text": [
      "100%|██████████████████████████████████████████████████████████████████████████████| 1343/1343 [04:10<00:00,  5.37it/s]\n"
     ]
    }
   ],
   "source": [
    "df2 = pd.DataFrame({\"token\":[], \"lemma\":[] , \"pos\":[], \"tag\":[]})\n",
    "\n",
    "#t = pd.DataFrame(df.sentence.iloc[:10].progress_apply(preprocess).values)\n",
    "j = 5\n",
    "t = pd.DataFrame(df.sentence.iloc[j*5000:(j+1)*5000].progress_apply(preprocess).values)\n",
    "t[\"lemmas\"] = t[0].apply(lambda x: x[\"lemmas\"])\n",
    "t[\"tokens\"] = t[0].apply(lambda x: x[\"tokens\"])\n",
    "t[\"poss\"] = t[0].apply(lambda x: x[\"poss\"])\n",
    "t = t.drop(0, axis=1)\n",
    "t.to_csv(f\"parsed_{j}.csv\")\n",
    "df2.to_csv(f\"morph_info_{j}.csv\")"
   ]
  },
  {
   "cell_type": "code",
   "execution_count": 9,
   "id": "463d1680-037c-4960-8429-8b011f76145d",
   "metadata": {},
   "outputs": [
    {
     "ename": "NameError",
     "evalue": "name 't' is not defined",
     "output_type": "error",
     "traceback": [
      "\u001b[1;31m---------------------------------------------------------------------------\u001b[0m",
      "\u001b[1;31mNameError\u001b[0m                                 Traceback (most recent call last)",
      "Input \u001b[1;32mIn [9]\u001b[0m, in \u001b[0;36m<cell line: 1>\u001b[1;34m()\u001b[0m\n\u001b[1;32m----> 1\u001b[0m \u001b[43mt\u001b[49m\u001b[38;5;241m.\u001b[39miloc[\u001b[38;5;241m0\u001b[39m]\u001b[38;5;241m.\u001b[39mposs\n",
      "\u001b[1;31mNameError\u001b[0m: name 't' is not defined"
     ]
    }
   ],
   "source": [
    "t.iloc[0].poss"
   ]
  },
  {
   "cell_type": "code",
   "execution_count": 322,
   "id": "0fb5d6c7-cdc3-447f-984c-4e517b84a494",
   "metadata": {},
   "outputs": [],
   "source": [
    "t = pd.concat([df.iloc[:100][[\"title\", \"date\", \"sentence\"]], t], axis=1)"
   ]
  },
  {
   "cell_type": "code",
   "execution_count": 143,
   "id": "505dde39-b05a-44c4-99a5-8649eccf2af8",
   "metadata": {},
   "outputs": [],
   "source": [
    "word = \"знать+VERB\""
   ]
  },
  {
   "cell_type": "code",
   "execution_count": 410,
   "id": "c61d0f4c-06d8-4367-8a9c-24557d98e0d1",
   "metadata": {},
   "outputs": [],
   "source": [
    "request = 'NOUN VERB'"
   ]
  },
  {
   "cell_type": "code",
   "execution_count": 339,
   "id": "9cfd3523-a72e-43b8-a203-05332971f580",
   "metadata": {},
   "outputs": [
    {
     "data": {
      "text/plain": [
       "True"
      ]
     },
     "execution_count": 340,
     "metadata": {},
     "output_type": "execute_result"
    }
   ],
   "source": [
    "\"\".isalnum()"
   ]
  },
  {
   "cell_type": "code",
   "execution_count": 336,
   "id": "c55a125d-ba2f-44de-b6f0-87c164126f36",
   "metadata": {},
   "outputs": [],
   "source": [
    "import string\n",
    "\n",
    "def isEnglish(s):\n",
    "    return s.isascii()"
   ]
  },
  {
   "cell_type": "code",
   "execution_count": 483,
   "id": "0b11b243-6a89-4efa-bd2c-0b830f3a45b1",
   "metadata": {},
   "outputs": [],
   "source": [
    "def search(request, df):\n",
    "    sub_req = request.split()\n",
    "\n",
    "    el_chars = {}\n",
    "    for element in sub_req:\n",
    "        with_pos = False\n",
    "        if element[0] == '\"':\n",
    "            element = element[1:-1]\n",
    "            mode = \"lemmas\"\n",
    "        elif element[0].isascii():\n",
    "            mode = \"poss\"\n",
    "        else:\n",
    "            mode = \"tokens\"\n",
    "        if \"+\" in element:\n",
    "            with_pos = True\n",
    "        print(element, mode)\n",
    "        el_chars.update({element: word_search(element=element,\n",
    "                                              df=df, mode=mode,\n",
    "                                              with_pos=with_pos)})\n",
    "\n",
    "    common_sents = list(reduce(lambda x, y: x & y.keys(), el_chars.values()))\n",
    "    for sent in common_sents:\n",
    "        # беру разницу элементов массива, она должна быть равна длине массива -1\n",
    "        #word_indices = [el_chars[key][sent][0] for key in el_chars]\n",
    "        listik = []\n",
    "        for key in el_chars:\n",
    "            listik.append(el_chars[key][sent])\n",
    "        grid = np.array(np.meshgrid(*listik)).T.reshape(-1, len(el_chars))\n",
    "        diffs = np.apply_along_axis(custom_diff, arr=grid, axis=1)\n",
    "        word_indices = diffs[np.where(diffs == len(el_chars)-1)]\n",
    "        if len(word_indices) > 0:\n",
    "            print_out(sent, word_indices, df)"
   ]
  },
  {
   "cell_type": "code",
   "execution_count": 308,
   "id": "f6849934-7a06-4d2b-a72e-ac7f5302eb69",
   "metadata": {},
   "outputs": [],
   "source": [
    "def print_out(sent_indice, word_indice, df):\n",
    "    row = df.iloc[sent_indice]\n",
    "    print(row.sentence)\n",
    "    print(row.title)\n",
    "    print(row.date)\n",
    "    print(\"\")"
   ]
  },
  {
   "cell_type": "code",
   "execution_count": 396,
   "id": "0b76a4a7-23d7-4017-8676-f70a166c04f9",
   "metadata": {},
   "outputs": [],
   "source": [
    "def flatten(l):\n",
    "    return [item for sublist in l for item in sublist]"
   ]
  },
  {
   "cell_type": "code",
   "execution_count": 16,
   "id": "2273a941-be6a-42be-bb8b-fc535475e24d",
   "metadata": {},
   "outputs": [],
   "source": [
    "from functools import reduce"
   ]
  },
  {
   "cell_type": "code",
   "execution_count": 5,
   "id": "33421cfc-aebc-4df7-9a50-9b3f5c5ccd61",
   "metadata": {},
   "outputs": [],
   "source": [
    "import numpy as np"
   ]
  },
  {
   "cell_type": "code",
   "execution_count": 478,
   "id": "af71410a-45bc-438d-a5c2-a364b43bd63b",
   "metadata": {},
   "outputs": [
    {
     "data": {
      "text/plain": [
       "array([1])"
      ]
     },
     "execution_count": 478,
     "metadata": {},
     "output_type": "execute_result"
    }
   ],
   "source": [
    "grid = np.array(np.meshgrid([3], [0, 2])).T.reshape(-1, 2)\n",
    "custom_diff = lambda z: reduce(lambda x, y: abs(x - y), z)\n",
    "diffs = np.apply_along_axis(custom_diff, arr=grid, axis=1)\n",
    "diffs[np.where(diffs == 1)]"
   ]
  },
  {
   "cell_type": "code",
   "execution_count": 476,
   "id": "a06162c7-653e-4a30-ab7a-49c91c1368c1",
   "metadata": {},
   "outputs": [
    {
     "data": {
      "text/plain": [
       "array([3, 2])"
      ]
     },
     "execution_count": 476,
     "metadata": {},
     "output_type": "execute_result"
    }
   ],
   "source": [
    "diffs"
   ]
  },
  {
   "cell_type": "code",
   "execution_count": null,
   "id": "19858d17-8bcd-4009-9289-b21b4e3d8e70",
   "metadata": {},
   "outputs": [],
   "source": [
    "search(request, df=t)"
   ]
  },
  {
   "cell_type": "code",
   "execution_count": 407,
   "id": "c753385f-ade0-4a4c-990a-4aaa9cc5dc2a",
   "metadata": {},
   "outputs": [
    {
     "data": {
      "text/plain": [
       "array([[0, 1, 2, 3],\n",
       "       [1, 0, 1, 2],\n",
       "       [2, 1, 0, 1],\n",
       "       [3, 2, 1, 0]])"
      ]
     },
     "execution_count": 407,
     "metadata": {},
     "output_type": "execute_result"
    }
   ],
   "source": [
    "a = np.array([1, 2, 3, 4])\n",
    "np.abs(np.subtract.outer(a, a))"
   ]
  },
  {
   "cell_type": "code",
   "execution_count": null,
   "id": "202a2d87-6693-43a9-93e1-8c507373070b",
   "metadata": {},
   "outputs": [],
   "source": [
    "pd.merge(pd.DataFrame(word_search(\"не\", t, mode=\"tokens\")),\n",
    "         pd.DataFrame(word_search(\"знать\", t, mode=\"lemmas\")))"
   ]
  },
  {
   "cell_type": "code",
   "execution_count": 328,
   "id": "7c81efea-7cca-4fa4-be1e-2ae77dc952cc",
   "metadata": {},
   "outputs": [],
   "source": [
    "def word_search(element, df=df, df2=df2, mode=\"tokens\", with_pos=False):\n",
    "\n",
    "    if with_pos:\n",
    "        word, pos = element.split(\"+\")\n",
    "        word_indices = word_search(word, df, df2, mode)\n",
    "        pos_indices = word_search(pos, df, df2, mode=\"poss\")\n",
    "        indices = word_indices.keys() & pos_indices.keys()\n",
    "        morph_indices = []\n",
    "        for sent in indices:\n",
    "            morph_indices.append(list(set(word_indices[sent]) & set(pos_indices[sent])))\n",
    "\n",
    "    else:\n",
    "        v = np.vectorize(lambda x: element in x)\n",
    "        indices = np.where(v(df[mode]) == True)[0]\n",
    "\n",
    "        #for i in indices:\n",
    "            #print(i)\n",
    "        row = df.iloc[indices]\n",
    "        #print(row.lemmas)\n",
    "        #print(row.sentence)\n",
    "        #print(row.title)\n",
    "        #print(row.date)\n",
    "        morph_indices = row[mode].apply(lambda x: x[element])\n",
    "        if with_pos:\n",
    "        #print(row[mode].apply(lambda x: x[word]))  # индексы находятся списками\n",
    "            morph = df2.iloc[morph_indices.sum()]\n",
    "            u = np.vectorize(lambda x: x == pos)\n",
    "\n",
    "            #print(f\"\"\"\\tnormal form - {morph.lemma.unique()}\n",
    "            #word - {morph.token.unique()}\n",
    "            #pos - {morph.pos.unique()}\n",
    "            #tag - {morph.tag.unique()}\"\"\")\n",
    "            #print(\"\")\n",
    "        \n",
    "    return dict(zip(indices, morph_indices))"
   ]
  },
  {
   "cell_type": "code",
   "execution_count": 233,
   "id": "d1617ec9-f2f0-4753-ad35-5da8b17d7d8b",
   "metadata": {},
   "outputs": [],
   "source": [
    "df3 = pd.concat([\n",
    "           pd.DataFrame({\"url\": \"test0\",\n",
    "                         \"title\": \"test1\",\n",
    "                         \"date\": \"test2\",\n",
    "                         \"sentence\": \"сегодня тут ужинает высшая знать\"}, index=[0]),\n",
    "    df])"
   ]
  },
  {
   "cell_type": "code",
   "execution_count": 330,
   "id": "bb231d19-a2fc-4fcc-9a60-7ad94fda85b7",
   "metadata": {},
   "outputs": [
    {
     "data": {
      "text/plain": [
       "{87: [2026]}"
      ]
     },
     "execution_count": 330,
     "metadata": {},
     "output_type": "execute_result"
    }
   ],
   "source": [
    "word_search(\"знать+VERB\", t, mode=\"tokens\", with_pos=True)"
   ]
  },
  {
   "cell_type": "code",
   "execution_count": null,
   "id": "80b831f6-deda-4577-91ab-dffd6d20dd5a",
   "metadata": {},
   "outputs": [],
   "source": [
    "word_search(\"VERB\", t, mode=\"poss\", with_pos=False)"
   ]
  },
  {
   "cell_type": "code",
   "execution_count": 329,
   "id": "c099d8b9-b294-45fc-ba77-e68be94889ce",
   "metadata": {},
   "outputs": [
    {
     "data": {
      "text/plain": [
       "{87: []}"
      ]
     },
     "execution_count": 329,
     "metadata": {},
     "output_type": "execute_result"
    }
   ],
   "source": [
    "word_search(\"знать+NOUN\", t, mode=\"tokens\", with_pos=True)"
   ]
  },
  {
   "cell_type": "code",
   "execution_count": 331,
   "id": "c5bdb97e-0d03-46d5-b481-2f1737766eae",
   "metadata": {},
   "outputs": [
    {
     "data": {
      "text/plain": [
       "{87: [2026]}"
      ]
     },
     "execution_count": 331,
     "metadata": {},
     "output_type": "execute_result"
    }
   ],
   "source": [
    "word_search(\"знать\", t, mode=\"tokens\", with_pos=False)"
   ]
  },
  {
   "cell_type": "code",
   "execution_count": 651,
   "id": "e5abd794-d022-454b-944d-4216fa9386e5",
   "metadata": {},
   "outputs": [
    {
     "name": "stdout",
     "output_type": "stream",
     "text": [
      "Конечно, не обошлось и без дипломированных лицедеев – актрисы Натальи Селезневой и актера Валерия Баринова.\n"
     ]
    }
   ],
   "source": [
    "print(df.iloc[398][\"sentence\"])"
   ]
  },
  {
   "cell_type": "code",
   "execution_count": 867,
   "id": "d8de44e4-086b-4294-8372-479a21753c52",
   "metadata": {},
   "outputs": [
    {
     "name": "stdout",
     "output_type": "stream",
     "text": [
      "9      [281]\n",
      "87    [2026]\n",
      "Name: lemmas, dtype: object\n"
     ]
    }
   ],
   "source": [
    "a, b, c, d = word_search(word, t, mode=\"lemmas\")"
   ]
  },
  {
   "cell_type": "code",
   "execution_count": 627,
   "id": "d0e306e1-0ab8-4b44-b0a6-de365cfc2d01",
   "metadata": {},
   "outputs": [
    {
     "name": "stdout",
     "output_type": "stream",
     "text": [
      "CPU times: total: 0 ns\n",
      "Wall time: 998 µs\n"
     ]
    },
    {
     "data": {
      "text/plain": [
       "0    [начну, начать, VERB, Mood=Ind|Number=Sing|Per...\n",
       "Name: tokens, dtype: object"
      ]
     },
     "execution_count": 627,
     "metadata": {},
     "output_type": "execute_result"
    }
   ],
   "source": [
    "%%time\n",
    "v = np.vectorize(lambda x: word in x)\n",
    "\n",
    "indices = np.where(v(t[\"tokens\"]) == True)\n",
    "\n",
    "t.iloc[indices][\"tokens\"].apply(lambda x: df2.iloc[x[word]].values[0])\n",
    "#chars = s.iloc[indices][\"lemmas\"].apply(lambda x: x[word])"
   ]
  },
  {
   "cell_type": "code",
   "execution_count": 647,
   "id": "6d81f145-5643-4945-8ab2-69d83a76d636",
   "metadata": {},
   "outputs": [
    {
     "name": "stdout",
     "output_type": "stream",
     "text": [
      "Начну, простите, с конца.\n",
      "\tnormal form - начать\n",
      "        pos - VERB\n",
      "        tag - Mood=Ind|Number=Sing|Person=1|Tense=Notpast|VerbForm=Fin|Voice=Act\n",
      "Да, митинги 10-го и 24-го декабря – это замечательная веха отечественной истории, да, прежде всего, это дыхание весны и романтики (я вообще вижу в них, прежде всего, художественный смысл), но (не хочу оказаться правым) ОНИ вам ничего не отдадут.\n",
      "\tnormal form - простить\n",
      "        pos - VERB\n",
      "        tag - Mood=Imp|Number=Plur|Person=2|VerbForm=Fin|Voice=Act\n"
     ]
    }
   ],
   "source": [
    "j = [0, 1]\n",
    "\n",
    "for i in j:\n",
    "    print(df.iloc[i][\"sentence\"])\n",
    "    morph = df2.iloc[i]\n",
    "    print(f\"\"\"\\tnormal form - {morph.lemma}\n",
    "        pos - {morph.pos}\n",
    "        tag - {morph.tag}\"\"\")"
   ]
  },
  {
   "cell_type": "code",
   "execution_count": 622,
   "id": "ce2206b2-cba2-4930-88ba-d3cb1dc52fa1",
   "metadata": {},
   "outputs": [
    {
     "data": {
      "text/html": [
       "<div>\n",
       "<style scoped>\n",
       "    .dataframe tbody tr th:only-of-type {\n",
       "        vertical-align: middle;\n",
       "    }\n",
       "\n",
       "    .dataframe tbody tr th {\n",
       "        vertical-align: top;\n",
       "    }\n",
       "\n",
       "    .dataframe thead th {\n",
       "        text-align: right;\n",
       "    }\n",
       "</style>\n",
       "<table border=\"1\" class=\"dataframe\">\n",
       "  <thead>\n",
       "    <tr style=\"text-align: right;\">\n",
       "      <th></th>\n",
       "      <th>84</th>\n",
       "    </tr>\n",
       "  </thead>\n",
       "  <tbody>\n",
       "    <tr>\n",
       "      <th>0</th>\n",
       "      <td>начну</td>\n",
       "    </tr>\n",
       "  </tbody>\n",
       "</table>\n",
       "</div>"
      ],
      "text/plain": [
       "      84\n",
       "0  начну"
      ]
     },
     "execution_count": 622,
     "metadata": {},
     "output_type": "execute_result"
    }
   ],
   "source": [
    "t.iloc[indices][\"tokens\"].apply(lambda x: df2[\"token\"].iloc[x[word]])"
   ]
  },
  {
   "cell_type": "code",
   "execution_count": 464,
   "id": "ee45fe7f-a38d-4682-8830-b0822bb08ace",
   "metadata": {},
   "outputs": [],
   "source": [
    "s = pd.concat([df.iloc[:1000].sentence, s], axis=1)"
   ]
  },
  {
   "cell_type": "code",
   "execution_count": 465,
   "id": "557a93ad-705f-4acc-9cc1-9e1492a2a365",
   "metadata": {},
   "outputs": [
    {
     "data": {
      "text/plain": [
       "(array(['VERB', 'VERB', 'VERB', 'VERB', 'VERB', 'VERB', 'VERB', 'VERB',\n",
       "        'VERB', 'VERB', 'VERB'], dtype='<U4'),\n",
       " array(['Mood=Ind|Number=Sing|Person=1|Tense=Notpast|VerbForm=Fin|Voice=Act',\n",
       "        'Gender=Masc|Mood=Ind|Number=Sing|Tense=Past|VerbForm=Fin|Voice=Act',\n",
       "        'Mood=Ind|Number=Plur|Person=3|Tense=Notpast|VerbForm=Fin|Voice=Act',\n",
       "        'Mood=Ind|Number=Sing|Person=1|Tense=Notpast|VerbForm=Fin|Voice=Act',\n",
       "        'Mood=Ind|Number=Plur|Person=1|Tense=Notpast|VerbForm=Fin|Voice=Act',\n",
       "        'Mood=Ind|Number=Plur|Tense=Past|VerbForm=Fin|Voice=Act',\n",
       "        'Gender=Masc|Mood=Ind|Number=Sing|Tense=Past|VerbForm=Fin|Voice=Act',\n",
       "        'Gender=Fem|Mood=Ind|Number=Sing|Tense=Past|VerbForm=Fin|Voice=Act',\n",
       "        'VerbForm=Inf',\n",
       "        'Mood=Ind|Number=Plur|Tense=Past|VerbForm=Fin|Voice=Act',\n",
       "        'Mood=Ind|Number=Sing|Person=3|Tense=Notpast|VerbForm=Fin|Voice=Act'],\n",
       "       dtype='<U66'))"
      ]
     },
     "execution_count": 465,
     "metadata": {},
     "output_type": "execute_result"
    }
   ],
   "source": [
    "v = np.vectorize(lambda x: (x[\"pos\"], x[\"tag\"]))\n",
    "v(chars.values)"
   ]
  },
  {
   "cell_type": "code",
   "execution_count": null,
   "id": "ad905f3b-c806-493f-a21e-e1574c40c9d2",
   "metadata": {},
   "outputs": [],
   "source": [
    "3 ms - занимает поиск"
   ]
  },
  {
   "cell_type": "code",
   "execution_count": null,
   "id": "4e170f0e-f6a5-4e36-bab2-97ce26b95904",
   "metadata": {},
   "outputs": [],
   "source": [
    "# 4 колонки, сначала ищу по датафрейму, это супербыстро с векторайзом, потом в каждой строке ищу индекс один раз, вывожу всю инфу из 4 колонок"
   ]
  },
  {
   "cell_type": "code",
   "execution_count": null,
   "id": "f1eab0ad-66e4-4b67-a3cb-0eb77979eb8f",
   "metadata": {},
   "outputs": [],
   "source": [
    "#apply - 188 ms vs vectorize - 15 ms\n",
    "# подход со словарём уоскрил в 3 раза"
   ]
  },
  {
   "cell_type": "code",
   "execution_count": 376,
   "id": "a638394b-107d-487e-a3ea-d495728519ff",
   "metadata": {},
   "outputs": [
    {
     "data": {
      "text/plain": [
       "(array([0], dtype=int64),)"
      ]
     },
     "execution_count": 376,
     "metadata": {},
     "output_type": "execute_result"
    }
   ],
   "source": [
    "indices"
   ]
  },
  {
   "cell_type": "code",
   "execution_count": 406,
   "id": "43a62c80-9ab2-44d8-bd2d-4b0f6fdbf7c3",
   "metadata": {},
   "outputs": [],
   "source": [
    "word = \"да\""
   ]
  },
  {
   "cell_type": "code",
   "execution_count": 432,
   "id": "4def3e57-c4e9-466e-998d-760c7e19e622",
   "metadata": {},
   "outputs": [
    {
     "name": "stdout",
     "output_type": "stream",
     "text": [
      "1     {'pos': 'CONJ', 'tag': '_'}\n",
      "12    {'pos': 'CONJ', 'tag': '_'}\n",
      "22    {'pos': 'CONJ', 'tag': '_'}\n",
      "30    {'pos': 'CONJ', 'tag': '_'}\n",
      "47    {'pos': 'CONJ', 'tag': '_'}\n",
      "Name: tokens, dtype: object\n",
      "!\n"
     ]
    }
   ],
   "source": [
    "print(s[[\"tokens\"]].iloc[indices][\"tokens\"].apply(lambda x: x[word]))\n",
    "print(\"!\")"
   ]
  },
  {
   "cell_type": "code",
   "execution_count": 386,
   "id": "a53674b2-66f5-4510-bd1e-c6632a19b6e6",
   "metadata": {},
   "outputs": [],
   "source": [
    "# думаю, что так лучше всего, тогда можно по индексу сразу найти предложение, его вывести\n",
    "# в соотв колонке сразу обратиться по ключу, достать морфоприколы + лемму\n",
    "# но нужно сделать что-то подобное с другим словарём тоже\n",
    "\n",
    "# или сделать другую бд, но искать-же всё равно надо по хэшу, а где мне его ещё достать\n",
    "# обязательно должно что-то на что-то ссылаться\n",
    "# наверное надо всё-таки хранить лемму в токене тоже и наоборот\n",
    "# токены надо хранить в сете, иначе я их буду долго искать\n",
    "\n",
    "# судя по всему список позов тоже нужно хранить, но там нужен только сет,\n",
    "# чтобы достать форму+поз я посмотрю по словарю\n"
   ]
  },
  {
   "cell_type": "markdown",
   "id": "7274d25d-a98a-4ac3-a025-41540f485ff3",
   "metadata": {},
   "source": [
    "А если всё-таки всё разбить? Искать слово. Допустим, нашёл, вернул индекс, написал предложение + всё, что просят. Вроде так максимально просто. Если поиск в пандасе такой же быстрый как в словаре"
   ]
  },
  {
   "cell_type": "code",
   "execution_count": 12,
   "id": "3c58ccf9-cba3-4506-b2dc-3ac84a2e8996",
   "metadata": {},
   "outputs": [],
   "source": [
    "from rnnmorph.predictor import RNNMorphPredictor\n",
    "\n",
    "predictor = RNNMorphPredictor(language=\"ru\")"
   ]
  },
  {
   "cell_type": "code",
   "execution_count": 204,
   "id": "06c5b593-875d-48df-8f34-87028906fd76",
   "metadata": {},
   "outputs": [
    {
     "name": "stdout",
     "output_type": "stream",
     "text": [
      "1/1 [==============================] - 0s 20ms/step\n",
      "NOUN\n",
      "Case=Nom|Gender=Fem|Number=Sing\n",
      "мама\n"
     ]
    },
    {
     "data": {
      "text/plain": [
       "'мама'"
      ]
     },
     "execution_count": 204,
     "metadata": {},
     "output_type": "execute_result"
    }
   ],
   "source": [
    "forms = predictor.predict([\"мама\", \"мыла\", \"раму\"])\n",
    "print(forms[0].pos)\n",
    "print(forms[0].tag)\n",
    "print(forms[0].normal_form)\n",
    "forms[0].word"
   ]
  }
 ],
 "metadata": {
  "kernelspec": {
   "display_name": "Python 3 (ipykernel)",
   "language": "python",
   "name": "python3"
  },
  "language_info": {
   "codemirror_mode": {
    "name": "ipython",
    "version": 3
   },
   "file_extension": ".py",
   "mimetype": "text/x-python",
   "name": "python",
   "nbconvert_exporter": "python",
   "pygments_lexer": "ipython3",
   "version": "3.10.4"
  }
 },
 "nbformat": 4,
 "nbformat_minor": 5
}
